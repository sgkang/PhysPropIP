{
 "cells": [
  {
   "cell_type": "code",
   "execution_count": 2,
   "metadata": {
    "collapsed": false
   },
   "outputs": [
    {
     "name": "stdout",
     "output_type": "stream",
     "text": [
      "Populating the interactive namespace from numpy and matplotlib\n"
     ]
    }
   ],
   "source": [
    "%pylab inline"
   ]
  },
  {
   "cell_type": "code",
   "execution_count": 3,
   "metadata": {
    "collapsed": true
   },
   "outputs": [],
   "source": [
    "import pandas as pd"
   ]
  },
  {
   "cell_type": "markdown",
   "metadata": {},
   "source": [
    "<img src=\"./img/Circuit.png\" style=\"width: 50%; height: 50%\"> </img>"
   ]
  },
  {
   "cell_type": "markdown",
   "metadata": {},
   "source": [
    "<img src=\"./img/treqs.png\" style=\"width: 30%; height: 30%\"> </img>"
   ]
  },
  {
   "cell_type": "code",
   "execution_count": 4,
   "metadata": {
    "collapsed": true
   },
   "outputs": [],
   "source": [
    "def CPEfun(Rx, Qx, px, freq):\n",
    "    out = np.zeros_like(freq, dtype=complex128)\n",
    "    out = 1./(1./Rx + Qx*(np.pi*2*freq*1j)**px)\n",
    "    return out\n",
    "\n",
    "def CPEfunElec(Rx, Qx, pex, pix, freq):\n",
    "    out = np.zeros_like(freq, dtype=complex128)\n",
    "    out = 1./(1./Rx + (1j)**pix*Qx*(np.pi*2*freq)**pex)\n",
    "    return out\n",
    "\n",
    "def CPEfunSeries(Rx, Qx, px, freq):\n",
    "    out = np.zeros_like(freq, dtype=complex128)\n",
    "    out = Rx + 1./(Qx*(np.pi*2*freq*1j)**px)\n",
    "    return out"
   ]
  },
  {
   "cell_type": "code",
   "execution_count": 5,
   "metadata": {
    "collapsed": false
   },
   "outputs": [],
   "source": [
    "pathforPK = \"/Users/sgkang/Google Drive/Zarcfit/nt01223.z\"\n",
    "pathfordata = \"../data/Kimberlite-2015-07-17.xls\"\n",
    "temp = np.loadtxt(pathforPK, skiprows=11, delimiter=\",\")\n",
    "data = pd.read_excel(pathfordata)\n",
    "data_active = data.loc[np.logical_and((data['Facies'] == 'XVK')|(data['Facies'] == 'PK')|(data['Facies'] == 'HK')|(data['Facies'] == 'VK'), data.notnull()['Rinf']==True)][[\"Facies\", \"0LabID (PCG)\", \"Peregrine ID\", \"(Latitude)\", \"(Longitude)\", \"Depth (m)\",\"Mag Susc [SI]\",\"Resistivity [Ohm.m]\",\"Geometric Factor [m]\",\"Sat Geometric Dens [g/cc]\",\"Chargeability [ms]\",\"Rinf\",\"Ro\",\"Rh\",\"Qh\",\"Ph\", \"Fh\",\"pRh\", \"pQh\",\"Rm\",\"Qm\",\"Pm\", \"pRm\", \"pQm\",\"Rl\",\"Ql\",\"Pl\", \"Fl\", \"pRl\", \"pQl\",\"Re\",\"Qe\",\"Pe-f\",\"Pe-i\"]]"
   ]
  },
  {
   "cell_type": "code",
   "execution_count": 6,
   "metadata": {
    "collapsed": true
   },
   "outputs": [],
   "source": [
    "name = \"NT01223\""
   ]
  },
  {
   "cell_type": "code",
   "execution_count": 7,
   "metadata": {
    "collapsed": false
   },
   "outputs": [
    {
     "name": "stderr",
     "output_type": "stream",
     "text": [
      "/Users/sgkang/anaconda/lib/python2.7/site-packages/pandas/core/frame.py:1825: UserWarning: Boolean Series key will be reindexed to match DataFrame index.\n",
      "  \"DataFrame index.\", UserWarning)\n"
     ]
    }
   ],
   "source": [
    "R0 = data_active[data['0LabID (PCG)'] == name]['Ro'].values[0]\n",
    "Rinf = data_active[data['0LabID (PCG)'] == name]['Rinf'].values[0]"
   ]
  },
  {
   "cell_type": "code",
   "execution_count": 8,
   "metadata": {
    "collapsed": false
   },
   "outputs": [],
   "source": [
    "Rh = data_active[data['0LabID (PCG)'] == name]['Rh'].values[0]\n",
    "Qh = data_active[data['0LabID (PCG)'] == name]['Qh'].values[0]\n",
    "pRh = data_active[data['0LabID (PCG)'] == name]['pRh'].values[0]\n",
    "pQh = data_active[data['0LabID (PCG)'] == name]['pQh'].values[0]\n",
    "Ph = data_active[data['0LabID (PCG)'] == name]['Ph'].values[0]\n",
    "Fh = data_active[data['0LabID (PCG)'] == name]['Fh'].values[0]\n",
    "Rl = data_active[data['0LabID (PCG)'] == name]['Rl'].values[0]\n",
    "Ql = data_active[data['0LabID (PCG)'] == name]['Ql'].values[0]\n",
    "pRl = data_active[data['0LabID (PCG)'] == name]['pRl'].values[0]\n",
    "pQl = data_active[data['0LabID (PCG)'] == name]['pQl'].values[0]\n",
    "Pl = data_active[data['0LabID (PCG)'] == name]['Pl'].values[0]\n",
    "Re = data_active[data['0LabID (PCG)'] == name]['Re'].values[0]\n",
    "Qe = data_active[data['0LabID (PCG)'] == name]['Qe'].values[0]\n",
    "Pef = data_active[data['0LabID (PCG)'] == name]['Pe-f'].values[0]\n",
    "Pei = data_active[data['0LabID (PCG)'] == name]['Pe-i'].values[0]"
   ]
  },
  {
   "cell_type": "code",
   "execution_count": 9,
   "metadata": {
    "collapsed": false
   },
   "outputs": [
    {
     "name": "stdout",
     "output_type": "stream",
     "text": [
      "750.9 3.159e-10 100.8 2.519e-10\n"
     ]
    }
   ],
   "source": [
    "print Rh, Qh, pRh, pQh"
   ]
  },
  {
   "cell_type": "code",
   "execution_count": 10,
   "metadata": {
    "collapsed": false
   },
   "outputs": [
    {
     "name": "stdout",
     "output_type": "stream",
     "text": [
      "750.9 3.159e-10 100.8 2.519e-10\n"
     ]
    }
   ],
   "source": [
    "print Rh, Qh, pRh, pQh"
   ]
  },
  {
   "cell_type": "code",
   "execution_count": 11,
   "metadata": {
    "collapsed": false
   },
   "outputs": [],
   "source": [
    "# pathforPK = \"/Users/sgkang/Google Drive/Zarcfit/nt01223.z\"\n",
    "# pathfordata = \"../data/Kimberlite-2015-07-17.xls\"\n",
    "# temp = np.loadtxt(pathforPK, skiprows=11, delimiter=\",\")"
   ]
  },
  {
   "cell_type": "code",
   "execution_count": 12,
   "metadata": {
    "collapsed": false
   },
   "outputs": [
    {
     "data": {
      "text/html": [
       "<div>\n",
       "<table border=\"1\" class=\"dataframe\">\n",
       "  <thead>\n",
       "    <tr style=\"text-align: right;\">\n",
       "      <th></th>\n",
       "      <th>Facies</th>\n",
       "      <th>0LabID (PCG)</th>\n",
       "      <th>Peregrine ID</th>\n",
       "      <th>(Latitude)</th>\n",
       "      <th>(Longitude)</th>\n",
       "      <th>Depth (m)</th>\n",
       "      <th>Mag Susc [SI]</th>\n",
       "      <th>Resistivity [Ohm.m]</th>\n",
       "      <th>Geometric Factor [m]</th>\n",
       "      <th>Sat Geometric Dens [g/cc]</th>\n",
       "      <th>...</th>\n",
       "      <th>Rl</th>\n",
       "      <th>Ql</th>\n",
       "      <th>Pl</th>\n",
       "      <th>Fl</th>\n",
       "      <th>pRl</th>\n",
       "      <th>pQl</th>\n",
       "      <th>Re</th>\n",
       "      <th>Qe</th>\n",
       "      <th>Pe-f</th>\n",
       "      <th>Pe-i</th>\n",
       "    </tr>\n",
       "  </thead>\n",
       "  <tbody>\n",
       "    <tr>\n",
       "      <th>43</th>\n",
       "      <td>XVK</td>\n",
       "      <td>NT01222</td>\n",
       "      <td>K2P-0017</td>\n",
       "      <td>64.332627</td>\n",
       "      <td>-109.816663</td>\n",
       "      <td>174.1</td>\n",
       "      <td>0.000582</td>\n",
       "      <td>17.317279</td>\n",
       "      <td>0.021990</td>\n",
       "      <td>2.258028</td>\n",
       "      <td>...</td>\n",
       "      <td>302</td>\n",
       "      <td>5.039e-06</td>\n",
       "      <td>0.6464</td>\n",
       "      <td>3635</td>\n",
       "      <td>1272</td>\n",
       "      <td>7.383e-07</td>\n",
       "      <td>10000000000</td>\n",
       "      <td>0.005847</td>\n",
       "      <td>0.3518</td>\n",
       "      <td>0.7189</td>\n",
       "    </tr>\n",
       "    <tr>\n",
       "      <th>45</th>\n",
       "      <td>XVK</td>\n",
       "      <td>NT01223</td>\n",
       "      <td>K2P-0020</td>\n",
       "      <td>64.332627</td>\n",
       "      <td>-109.816663</td>\n",
       "      <td>204.5</td>\n",
       "      <td>0.000636</td>\n",
       "      <td>31.009713</td>\n",
       "      <td>0.021792</td>\n",
       "      <td>2.287620</td>\n",
       "      <td>...</td>\n",
       "      <td>582.8</td>\n",
       "      <td>3.038e-06</td>\n",
       "      <td>0.6517</td>\n",
       "      <td>2656</td>\n",
       "      <td>2058</td>\n",
       "      <td>5.084e-07</td>\n",
       "      <td>10000000000</td>\n",
       "      <td>0.003093</td>\n",
       "      <td>0.2073</td>\n",
       "      <td>-2.149</td>\n",
       "    </tr>\n",
       "    <tr>\n",
       "      <th>47</th>\n",
       "      <td>XVK</td>\n",
       "      <td>NT01224</td>\n",
       "      <td>K2P-0024</td>\n",
       "      <td>64.332627</td>\n",
       "      <td>-109.816663</td>\n",
       "      <td>235.0</td>\n",
       "      <td>0.000951</td>\n",
       "      <td>56.755824</td>\n",
       "      <td>0.021474</td>\n",
       "      <td>1.976504</td>\n",
       "      <td>...</td>\n",
       "      <td>1193</td>\n",
       "      <td>3.057e-06</td>\n",
       "      <td>0.5644</td>\n",
       "      <td>3322</td>\n",
       "      <td>3226</td>\n",
       "      <td>6.21e-07</td>\n",
       "      <td>10000000000</td>\n",
       "      <td>0.00097</td>\n",
       "      <td>0.1622</td>\n",
       "      <td>-2.037</td>\n",
       "    </tr>\n",
       "    <tr>\n",
       "      <th>49</th>\n",
       "      <td>XVK</td>\n",
       "      <td>NT01225</td>\n",
       "      <td>K2P-0031</td>\n",
       "      <td>64.332627</td>\n",
       "      <td>-109.816663</td>\n",
       "      <td>298.7</td>\n",
       "      <td>0.000287</td>\n",
       "      <td>15.608231</td>\n",
       "      <td>0.022568</td>\n",
       "      <td>2.218582</td>\n",
       "      <td>...</td>\n",
       "      <td>404.3</td>\n",
       "      <td>4.406e-06</td>\n",
       "      <td>0.6611</td>\n",
       "      <td>2293</td>\n",
       "      <td>499</td>\n",
       "      <td>1.492e-06</td>\n",
       "      <td>10000000000</td>\n",
       "      <td>0.005015</td>\n",
       "      <td>0.1692</td>\n",
       "      <td>-2.215</td>\n",
       "    </tr>\n",
       "    <tr>\n",
       "      <th>55</th>\n",
       "      <td>XVK</td>\n",
       "      <td>NT01228</td>\n",
       "      <td>K2P-0077</td>\n",
       "      <td>NaN</td>\n",
       "      <td>NaN</td>\n",
       "      <td>117.4</td>\n",
       "      <td>0.001884</td>\n",
       "      <td>77.892755</td>\n",
       "      <td>0.022312</td>\n",
       "      <td>2.416544</td>\n",
       "      <td>...</td>\n",
       "      <td>689.7</td>\n",
       "      <td>1.121e-05</td>\n",
       "      <td>0.5675</td>\n",
       "      <td>837.3</td>\n",
       "      <td>14210</td>\n",
       "      <td>4.365e-07</td>\n",
       "      <td>10000000000</td>\n",
       "      <td>0.001363</td>\n",
       "      <td>0.66</td>\n",
       "      <td>-2.347</td>\n",
       "    </tr>\n",
       "    <tr>\n",
       "      <th>57</th>\n",
       "      <td>XVK</td>\n",
       "      <td>NT01229</td>\n",
       "      <td>K2P-0147</td>\n",
       "      <td>64.332107</td>\n",
       "      <td>-109.815671</td>\n",
       "      <td>169.7</td>\n",
       "      <td>0.000851</td>\n",
       "      <td>15.092644</td>\n",
       "      <td>0.024129</td>\n",
       "      <td>2.005562</td>\n",
       "      <td>...</td>\n",
       "      <td>409.2</td>\n",
       "      <td>4.285e-06</td>\n",
       "      <td>0.6811</td>\n",
       "      <td>1771</td>\n",
       "      <td>339.6</td>\n",
       "      <td>1.809e-06</td>\n",
       "      <td>10000000000</td>\n",
       "      <td>0.006881</td>\n",
       "      <td>0.2626</td>\n",
       "      <td>0.6353</td>\n",
       "    </tr>\n",
       "    <tr>\n",
       "      <th>59</th>\n",
       "      <td>XVK</td>\n",
       "      <td>NT01230</td>\n",
       "      <td>K2P-0157</td>\n",
       "      <td>64.332107</td>\n",
       "      <td>-109.815671</td>\n",
       "      <td>265.9</td>\n",
       "      <td>0.001072</td>\n",
       "      <td>81.146257</td>\n",
       "      <td>0.025534</td>\n",
       "      <td>1.562988</td>\n",
       "      <td>...</td>\n",
       "      <td>1715</td>\n",
       "      <td>1.801e-06</td>\n",
       "      <td>0.5704</td>\n",
       "      <td>4005</td>\n",
       "      <td>2725</td>\n",
       "      <td>5.228e-07</td>\n",
       "      <td>10000000000</td>\n",
       "      <td>0.002796</td>\n",
       "      <td>0.1696</td>\n",
       "      <td>0.6351</td>\n",
       "    </tr>\n",
       "    <tr>\n",
       "      <th>60</th>\n",
       "      <td>XVK</td>\n",
       "      <td>NT01230</td>\n",
       "      <td>K2P-0157</td>\n",
       "      <td>64.332107</td>\n",
       "      <td>-109.815671</td>\n",
       "      <td>265.9</td>\n",
       "      <td>0.001110</td>\n",
       "      <td>49.144266</td>\n",
       "      <td>0.021891</td>\n",
       "      <td>1.747999</td>\n",
       "      <td>...</td>\n",
       "      <td>1008</td>\n",
       "      <td>4.69e-06</td>\n",
       "      <td>0.5254</td>\n",
       "      <td>4242</td>\n",
       "      <td>2767</td>\n",
       "      <td>9.43e-07</td>\n",
       "      <td>10000000000</td>\n",
       "      <td>0.008176</td>\n",
       "      <td>0.167</td>\n",
       "      <td>0.6575</td>\n",
       "    </tr>\n",
       "  </tbody>\n",
       "</table>\n",
       "<p>8 rows × 34 columns</p>\n",
       "</div>"
      ],
      "text/plain": [
       "   Facies 0LabID (PCG) Peregrine ID  (Latitude)  (Longitude)  Depth (m)  \\\n",
       "43    XVK      NT01222     K2P-0017   64.332627  -109.816663      174.1   \n",
       "45    XVK      NT01223     K2P-0020   64.332627  -109.816663      204.5   \n",
       "47    XVK      NT01224     K2P-0024   64.332627  -109.816663      235.0   \n",
       "49    XVK      NT01225     K2P-0031   64.332627  -109.816663      298.7   \n",
       "55    XVK      NT01228     K2P-0077         NaN          NaN      117.4   \n",
       "57    XVK      NT01229     K2P-0147   64.332107  -109.815671      169.7   \n",
       "59    XVK      NT01230     K2P-0157   64.332107  -109.815671      265.9   \n",
       "60    XVK      NT01230     K2P-0157   64.332107  -109.815671      265.9   \n",
       "\n",
       "    Mag Susc [SI]  Resistivity [Ohm.m]  Geometric Factor [m]  \\\n",
       "43       0.000582            17.317279              0.021990   \n",
       "45       0.000636            31.009713              0.021792   \n",
       "47       0.000951            56.755824              0.021474   \n",
       "49       0.000287            15.608231              0.022568   \n",
       "55       0.001884            77.892755              0.022312   \n",
       "57       0.000851            15.092644              0.024129   \n",
       "59       0.001072            81.146257              0.025534   \n",
       "60       0.001110            49.144266              0.021891   \n",
       "\n",
       "    Sat Geometric Dens [g/cc]   ...       Rl         Ql      Pl     Fl    pRl  \\\n",
       "43                   2.258028   ...      302  5.039e-06  0.6464   3635   1272   \n",
       "45                   2.287620   ...    582.8  3.038e-06  0.6517   2656   2058   \n",
       "47                   1.976504   ...     1193  3.057e-06  0.5644   3322   3226   \n",
       "49                   2.218582   ...    404.3  4.406e-06  0.6611   2293    499   \n",
       "55                   2.416544   ...    689.7  1.121e-05  0.5675  837.3  14210   \n",
       "57                   2.005562   ...    409.2  4.285e-06  0.6811   1771  339.6   \n",
       "59                   1.562988   ...     1715  1.801e-06  0.5704   4005   2725   \n",
       "60                   1.747999   ...     1008   4.69e-06  0.5254   4242   2767   \n",
       "\n",
       "          pQl           Re        Qe    Pe-f    Pe-i  \n",
       "43  7.383e-07  10000000000  0.005847  0.3518  0.7189  \n",
       "45  5.084e-07  10000000000  0.003093  0.2073  -2.149  \n",
       "47   6.21e-07  10000000000   0.00097  0.1622  -2.037  \n",
       "49  1.492e-06  10000000000  0.005015  0.1692  -2.215  \n",
       "55  4.365e-07  10000000000  0.001363    0.66  -2.347  \n",
       "57  1.809e-06  10000000000  0.006881  0.2626  0.6353  \n",
       "59  5.228e-07  10000000000  0.002796  0.1696  0.6351  \n",
       "60   9.43e-07  10000000000  0.008176   0.167  0.6575  \n",
       "\n",
       "[8 rows x 34 columns]"
      ]
     },
     "execution_count": 12,
     "metadata": {},
     "output_type": "execute_result"
    }
   ],
   "source": [
    "data_active[data['Facies'] == 'XVK']"
   ]
  },
  {
   "cell_type": "code",
   "execution_count": 13,
   "metadata": {
    "collapsed": false
   },
   "outputs": [
    {
     "data": {
      "text/plain": [
       "(1.5463669782962151, 1.9203195585966315)"
      ]
     },
     "execution_count": 13,
     "metadata": {},
     "output_type": "execute_result"
    },
    {
     "data": {
      "image/png": "[encoded data removed]",
      "text/plain": [
       "<matplotlib.figure.Figure at 0x10783d590>"
      ]
     },
     "metadata": {},
     "output_type": "display_data"
    }
   ],
   "source": [
    "import scipy as sp\n",
    "amp = lambda x, y: np.sqrt(x**2+y**2)\n",
    "fig = plt.figure(figsize = (8, 4))\n",
    "frequency = temp[:,0].copy()\n",
    "ax = plt.subplot(111)\n",
    "ax1 = ax.twinx()\n",
    "ax.loglog(temp[:,0], amp(temp[:,4], temp[:,5]), 'k.-')\n",
    "ax1.loglog(temp[:,0], sp.arctan2(temp[:,4], temp[:,5]), 'r.-')\n",
    "ax.invert_xaxis()\n",
    "ax.grid(True)\n",
    "ax.set_ylim(amp(temp[:,4], temp[:,5]).min(), amp(temp[:,4], temp[:,5]).max() )\n",
    "ax1.set_ylim(sp.arctan2(temp[:,4], temp[:,5]).min(), sp.arctan2(temp[:,4], temp[:,5]).max() )"
   ]
  },
  {
   "cell_type": "code",
   "execution_count": 14,
   "metadata": {
    "collapsed": false
   },
   "outputs": [
    {
     "data": {
      "text/plain": [
       "687.21000000000004"
      ]
     },
     "execution_count": 14,
     "metadata": {},
     "output_type": "execute_result"
    }
   ],
   "source": [
    "temp[0,4]"
   ]
  },
  {
   "cell_type": "code",
   "execution_count": 16,
   "metadata": {
    "collapsed": false
   },
   "outputs": [
    {
     "data": {
      "text/plain": [
       "0.7218899608562156"
      ]
     },
     "execution_count": 16,
     "metadata": {},
     "output_type": "execute_result"
    }
   ],
   "source": [
    "(temp[-1,4]-temp[0, 4]) / temp[0, 4]"
   ]
  },
  {
   "cell_type": "code",
   "execution_count": null,
   "metadata": {
    "collapsed": true
   },
   "outputs": [],
   "source": []
  },
  {
   "cell_type": "code",
   "execution_count": 134,
   "metadata": {
    "collapsed": false
   },
   "outputs": [],
   "source": [
    "# Rh, Qh, Ph = 3250, 1e-6, 0.422\n",
    "def fitfun(R0, Rh, Qh, Ph, Rl, Ql, Pl, Re, Qe, Pef, Pei):\n",
    "    Zh = CPEfunSeries(Rh, Qh, Ph, frequency)\n",
    "    Zl = CPEfunSeries(Rl, Ql, Pl, frequency)\n",
    "    Ze = CPEfunElec(Re, Qe, Pef, Pei, frequency)\n",
    "    Z = 1./(1./R0+1./Zh+1./Zl)+Ze\n",
    "    fig = plt.figure(figsize = (12, 4))\n",
    "    ax = plt.subplot(121)\n",
    "    ax1 = plt.subplot(122)\n",
    "    ax.loglog(temp[:,0], temp[:,4], 'k-')\n",
    "    ax1.loglog(temp[:,0], abs(temp[:,5]), 'r-')\n",
    "    ax.loglog(temp[:,0], Z.real, 'k.')\n",
    "    ax1.loglog(temp[:,0], abs(Z.imag), 'r.')\n",
    "\n",
    "    ax.grid(True)\n",
    "    # ax.set_ylim(temp[:,4].min(), temp[:,4].max())\n",
    "#     ax1.set_ylim(abs(temp[:,5]).min(), abs(temp[:,5]).max())\n",
    "    ax.invert_xaxis()\n",
    "    ax1.invert_xaxis()\n",
    "    return plt.show()"
   ]
  },
  {
   "cell_type": "code",
   "execution_count": 135,
   "metadata": {
    "collapsed": true
   },
   "outputs": [],
   "source": [
    "frequency = temp[:,0].copy()"
   ]
  },
  {
   "cell_type": "code",
   "execution_count": 136,
   "metadata": {
    "collapsed": true
   },
   "outputs": [],
   "source": [
    "from ipywidgets import interact, FloatText"
   ]
  },
  {
   "cell_type": "code",
   "execution_count": 137,
   "metadata": {
    "collapsed": false
   },
   "outputs": [
    {
     "data": {
      "image/png": "[encoded data removed]",
      "text/plain": [
       "<matplotlib.figure.Figure at 0x1098f9210>"
      ]
     },
     "metadata": {},
     "output_type": "display_data"
    },
    {
     "data": {
      "text/plain": [
       "<function __main__.fitfun>"
      ]
     },
     "execution_count": 137,
     "metadata": {},
     "output_type": "execute_result"
    }
   ],
   "source": [
    "interact(fitfun, R0=FloatText(value=R0),\\\n",
    "    Rh=FloatText(value=pRh), Qh=FloatText(value=pQh), Ph=FloatText(value=Ph),\n",
    "    Rl=FloatText(value=1.), Ql=FloatText(value=pQl), Pl=FloatText(value=Pl),        \n",
    "    Re=FloatText(value=Re), Qe=FloatText(value=Qe), Pef=FloatText(value=Pef), Pei=FloatText(value=Pei))"
   ]
  },
  {
   "cell_type": "code",
   "execution_count": 23,
   "metadata": {
    "collapsed": false
   },
   "outputs": [
    {
     "data": {
      "image/png": "[encoded data removed]",
      "text/plain": [
       "<matplotlib.figure.Figure at 0x1094c7990>"
      ]
     },
     "metadata": {},
     "output_type": "display_data"
    },
    {
     "data": {
      "text/plain": [
       "<function __main__.fitfun>"
      ]
     },
     "execution_count": 23,
     "metadata": {},
     "output_type": "execute_result"
    }
   ],
   "source": [
    "interact(fitfun, R0=FloatText(value=3290),\\\n",
    "    Rh=FloatText(value=34.7), Qh=FloatText(value=3.97e-7), Ph=FloatText(value=0.422),\n",
    "    Rl=FloatText(value=1e10), Ql=FloatText(value=1.1e-6), Pl=FloatText(value=0.364),        \n",
    "    Re=FloatText(value=264), Qe=FloatText(value=4.75e-4), Pef=FloatText(value=1.), Pei=FloatText(value=1.17))"
   ]
  },
  {
   "cell_type": "code",
   "execution_count": 24,
   "metadata": {
    "collapsed": true
   },
   "outputs": [],
   "source": [
    "f0peak = lambda R, Q, P: (R*Q)**(-1./P)/np.pi/2.\n",
    "taupeak = lambda R, Q, P: (R*Q)**(1./P)\n",
    "rhoinf = lambda rhom, rhol, rho0: 1./(1./rho0+1./rhom+1./rhol)\n",
    "charg = lambda rhoinf, rho0: (rho0-rhoinf) / rhoinf\n",
    "\n",
    "def TKCColeColeParallel(frequency, R0, Rh, Qh, Ph, Rl, Ql, Pl, geom=1.):\n",
    "    fpeakl = f0peak(Rl, Ql, Pl)\n",
    "    rhol = CPEfunSeries(Rl, Ql, Pl, frequency)*geom\n",
    "    rho0 = R0*geom\n",
    "    rhoinf = 1./(1./R0+1./Rl)\n",
    "    m = (rho0-rhoinf)/rho0\n",
    "    rho = 1./(1./rho0+1./rhol)\n",
    "    \n",
    "    fig, ax = plt.subplots(1, 2, figsize = (15, 3))\n",
    "    ax[0].semilogx(frequency, rho.real, 'k-', lw=2)\n",
    "    ax1 = ax[0].twinx()\n",
    "    ax1.semilogx(frequency, (rho.imag), 'k--', lw=2)\n",
    "    ax1.invert_yaxis()\n",
    "    ax[0].grid(True)\n",
    "    ax[1].plot(rho.real, rho.imag, 'k-')\n",
    "\n",
    "    ax[1].invert_yaxis()\n",
    "    ax[1].grid(True)\n",
    "\n",
    "    \n",
    "    print \"R0 = \", rho0\n",
    "    print \"Rinf = \", rhoinf\n",
    "    print \"Chargeability = \", m    \n",
    "    print \"Tau = \", 1./fpeakl  \n",
    "    return "
   ]
  },
  {
   "cell_type": "code",
   "execution_count": 17,
   "metadata": {
    "collapsed": false
   },
   "outputs": [
    {
     "name": "stdout",
     "output_type": "stream",
     "text": [
      "R0 =  91.44\n",
      "Rinf =  3371.42857143\n",
      "Chargeability =  -35.8703912011\n",
      "Tau =  0.00256689708585\n"
     ]
    },
    {
     "data": {
      "image/png": "[encoded data removed]",
      "text/plain": [
       "<matplotlib.figure.Figure at 0x10e5ba990>"
      ]
     },
     "metadata": {},
     "output_type": "display_data"
    }
   ],
   "source": [
    "R0 = 3600\n",
    "Rh, Qh, Ph = 34.7, 3.97e-7, 0.422\n",
    "Rl, Ql, Pl = 5.31e4, 1.1e-6, 0.364\n",
    "# frequency = temp[:,0].copy()\n",
    "frequency = np.logspace(-7, 10, 101)\n",
    "TKCColeColeParallel(frequency, R0, Rh, Qh, Ph, Rl, Ql, Pl, geom = 0.0254)"
   ]
  },
  {
   "cell_type": "code",
   "execution_count": 18,
   "metadata": {
    "collapsed": false
   },
   "outputs": [
    {
     "data": {
      "text/plain": [
       "(1.5569720885901273, 1.9486571969681217)"
      ]
     },
     "execution_count": 18,
     "metadata": {},
     "output_type": "execute_result"
    },
    {
     "data": {
      "image/png": "[encoded data removed]",
      "text/plain": [
       "<matplotlib.figure.Figure at 0x10ef92e50>"
      ]
     },
     "metadata": {},
     "output_type": "display_data"
    }
   ],
   "source": [
    "import scipy as sp\n",
    "amp = lambda x, y: np.sqrt(x**2+y**2)\n",
    "fig = plt.figure(figsize = (8, 4))\n",
    "frequency = temp[:,0].copy()\n",
    "ax = plt.subplot(111)\n",
    "ax1 = ax.twinx()\n",
    "ax.loglog(temp[:,0], amp(temp[:,4], temp[:,5]), 'k.-')\n",
    "ax1.loglog(temp[:,0], sp.arctan2(temp[:,4], temp[:,5]), 'r.-')\n",
    "ax.invert_xaxis()\n",
    "ax.grid(True)\n",
    "ax.set_ylim(amp(temp[:,4], temp[:,5]).min(), amp(temp[:,4], temp[:,5]).max() )\n",
    "ax1.set_ylim(sp.arctan2(temp[:,4], temp[:,5]).min(), sp.arctan2(temp[:,4], temp[:,5]).max() )"
   ]
  }
 ],
 "metadata": {
  "kernelspec": {
   "display_name": "Python 2",
   "language": "python",
   "name": "python2"
  },
  "language_info": {
   "codemirror_mode": {
    "name": "ipython",
    "version": 2
   },
   "file_extension": ".py",
   "mimetype": "text/x-python",
   "name": "python",
   "nbconvert_exporter": "python",
   "pygments_lexer": "ipython2",
   "version": "2.7.10"
  }
 },
 "nbformat": 4,
 "nbformat_minor": 0
}
