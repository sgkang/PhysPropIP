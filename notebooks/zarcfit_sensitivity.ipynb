{
 "cells": [
  {
   "cell_type": "code",
   "execution_count": 36,
   "metadata": {
    "collapsed": false
   },
   "outputs": [],
   "source": [
    "from ZarcfitCalculations import *\n",
    "import numpy as np"
   ]
  },
  {
   "cell_type": "code",
   "execution_count": 37,
   "metadata": {
    "collapsed": true
   },
   "outputs": [],
   "source": [
    "from SimPEG import Tests"
   ]
  },
  {
   "cell_type": "code",
   "execution_count": 38,
   "metadata": {
    "collapsed": true
   },
   "outputs": [],
   "source": [
    "%matplotlib inline\n",
    "import matplotlib.pyplot as plt"
   ]
  },
  {
   "cell_type": "code",
   "execution_count": 39,
   "metadata": {
    "collapsed": false
   },
   "outputs": [],
   "source": [
    "path = \"../data/HVC2014_10Grenon/\"\n",
    "# fnameobs = \"BC13867-A 2014-10-23.z\"\n",
    "fnameobs = \"BC13871-B 2014-10-23.z\"\n",
    "# fnameobs = \"BC13890A 2014-10-23.z\"\n",
    "# fnameobs = \"BC13859 2014-10-23.z\"\n",
    "pathobs = path+fnameobs\n",
    "temp = np.loadtxt(pathobs, skiprows=11, delimiter=\",\")\n",
    "obs = temp[:,4]+1j*temp[:,5]\n",
    "frequency = temp[:,0].copy()"
   ]
  },
  {
   "cell_type": "code",
   "execution_count": null,
   "metadata": {
    "collapsed": true
   },
   "outputs": [],
   "source": []
  },
  {
   "cell_type": "code",
   "execution_count": 40,
   "metadata": {
    "collapsed": false
   },
   "outputs": [],
   "source": [
    "zarc = ZarcfitCalculations(obs, frequency)"
   ]
  },
  {
   "cell_type": "code",
   "execution_count": 41,
   "metadata": {
    "collapsed": false
   },
   "outputs": [],
   "source": [
    "m0 = zarc.GetDefaultmodel()"
   ]
  },
  {
   "cell_type": "code",
   "execution_count": 42,
   "metadata": {
    "collapsed": true
   },
   "outputs": [],
   "source": [
    "pred0 = zarc.Zparallel(frequency)"
   ]
  },
  {
   "cell_type": "code",
   "execution_count": 43,
   "metadata": {
    "collapsed": false
   },
   "outputs": [
    {
     "data": {
      "text/plain": [
       "[<matplotlib.lines.Line2D at 0x108790690>]"
      ]
     },
     "execution_count": 43,
     "metadata": {},
     "output_type": "execute_result"
    },
    {
     "data": {
      "image/png": "[encoded data removed]",
      "text/plain": [
       "<matplotlib.figure.Figure at 0x1091d9110>"
      ]
     },
     "metadata": {},
     "output_type": "display_data"
    }
   ],
   "source": [
    "plt.loglog(frequency, obs.real)\n",
    "plt.loglog(frequency, -obs.imag)\n",
    "plt.loglog(frequency, pred0.real)\n",
    "plt.loglog(frequency, -pred0.imag)"
   ]
  },
  {
   "cell_type": "code",
   "execution_count": 44,
   "metadata": {
    "collapsed": false
   },
   "outputs": [],
   "source": [
    "# a = np.r_[obs.real, obs.imag]\n",
    "# b = np.r_[pred.real, pred.imag]\n",
    "# u = abs(a)*0.05"
   ]
  },
  {
   "cell_type": "code",
   "execution_count": 45,
   "metadata": {
    "collapsed": false
   },
   "outputs": [],
   "source": [
    "# np.linalg.norm((b-a)/u)**2"
   ]
  },
  {
   "cell_type": "code",
   "execution_count": 46,
   "metadata": {
    "collapsed": false
   },
   "outputs": [
    {
     "data": {
      "text/plain": [
       "array([ -9.21034037,   9.21034037,  11.51292546,  11.51292546,\n",
       "         0.8       ,   9.21034037,   2.30258509,   0.5       ,\n",
       "         0.1       ,   6.90775528,   0.5       ,  23.02585093,\n",
       "        -9.21034037,   0.5       ,   0.05      ])"
      ]
     },
     "execution_count": 46,
     "metadata": {},
     "output_type": "execute_result"
    }
   ],
   "source": [
    "inact = np.isnan(m0)\n",
    "m0[~inact]"
   ]
  },
  {
   "cell_type": "code",
   "execution_count": 47,
   "metadata": {
    "collapsed": false
   },
   "outputs": [
    {
     "name": "stdout",
     "output_type": "stream",
     "text": [
      "misfit: 1990.78357336 1910.00882438\n",
      "0 1910.00882438\n",
      "misfit: 1910.00882438 1622.09825727\n",
      "1 1622.09825727\n",
      "misfit: 1622.09825727 1566.88052831\n",
      "2 1566.88052831\n",
      "misfit: 1566.88052831 1562.15783511\n",
      "3 1562.15783511\n",
      "misfit: 1562.15783511 1556.43853477\n",
      "4 1556.43853477\n",
      "misfit: 1556.43853477 1551.32915684\n",
      "5 1551.32915684\n",
      "misfit: 1551.32915684 1547.74342798\n",
      "6 1547.74342798\n",
      "misfit: 1547.74342798 1546.16163797\n",
      "7 1546.16163797\n",
      "misfit: 1546.16163797 1544.06519983\n",
      "8 1544.06519983\n",
      "misfit: 1544.06519983 1542.4306909\n",
      "9 1542.4306909\n",
      "misfit: 1542.4306909 1541.0795647\n",
      "10 1541.0795647\n",
      "misfit: 1541.0795647 1539.37370596\n",
      "11 1539.37370596\n",
      "misfit: 1539.37370596 1536.51759641\n",
      "12 1536.51759641\n",
      "misfit: 1536.51759641 1467.15566935\n",
      "13 1467.15566935\n",
      "misfit: 1467.15566935 1225.42493526\n",
      "14 1225.42493526\n",
      "misfit: 1225.42493526 1184.36405201\n",
      "15 1184.36405201\n",
      "misfit: 1184.36405201 1172.48840518\n",
      "16 1172.48840518\n",
      "misfit: 1172.48840518 1154.44655955\n",
      "17 1154.44655955\n",
      "misfit: 1154.44655955 1096.75276625\n",
      "18 1096.75276625\n",
      "misfit: 1096.75276625 1062.80410757\n",
      "19 1062.80410757\n",
      "misfit: 1062.80410757 1049.44156269\n",
      "20 1049.44156269\n",
      "misfit: 1049.44156269 472.763407706\n",
      "21 472.763407706\n",
      "misfit: 472.763407706 472.479737068\n",
      "22 472.479737068\n",
      "misfit: 472.479737068 443.821720922\n",
      "23 443.821720922\n",
      "misfit: 443.821720922 432.871068558\n",
      "24 432.871068558\n",
      "misfit: 432.871068558 381.131408816\n",
      "25 381.131408816\n",
      "misfit: 381.131408816 380.983581524\n",
      "26 380.983581524\n",
      "misfit: 380.983581524 380.396203837\n",
      "27 380.396203837\n",
      "misfit: 380.396203837 377.649063153\n",
      "28 377.649063153\n",
      "misfit: 377.649063153 372.485954585\n",
      "29 372.485954585\n",
      "misfit: 372.485954585 364.650086652\n",
      "30 364.650086652\n",
      "misfit: 364.650086652 325.772195049\n",
      "31 325.772195049\n",
      "misfit: 325.772195049 323.049182301\n",
      "32 323.049182301\n",
      "misfit: 323.049182301 280.691077146\n",
      "33 280.691077146\n",
      "misfit: 280.691077146 274.424342194\n",
      "34 274.424342194\n",
      "misfit: 274.424342194 264.012901664\n",
      "35 264.012901664\n",
      "misfit: 264.012901664 260.195616137\n",
      "36 260.195616137\n",
      "misfit: 260.195616137 259.920108236\n",
      "37 259.920108236\n",
      "misfit: 259.920108236 246.99940081\n",
      "38 246.99940081\n",
      "misfit: 246.99940081 226.842108772\n",
      "39 226.842108772\n",
      "misfit: 226.842108772 216.271042963\n",
      "40 216.271042963\n",
      "misfit: 216.271042963 209.493051267\n",
      "41 209.493051267\n",
      "misfit: 209.493051267 208.956631864\n",
      "42 208.956631864\n",
      "misfit: 208.956631864 197.391858968\n",
      "43 197.391858968\n",
      "misfit: 197.391858968 190.385075714\n",
      "44 190.385075714\n",
      "misfit: 190.385075714 189.768112278\n",
      "45 189.768112278\n",
      "misfit: 189.768112278 189.643895432\n",
      "46 189.643895432\n",
      "misfit: 189.643895432 186.687234159\n",
      "47 186.687234159\n",
      "misfit: 186.687234159 178.884633107\n",
      "48 178.884633107\n",
      "misfit: 178.884633107 152.378956103\n",
      "49 152.378956103\n",
      "misfit: 152.378956103 136.299961394\n",
      "50 136.299961394\n",
      "misfit: 136.299961394 120.917214052\n",
      "51 120.917214052\n",
      "misfit: 120.917214052 95.1618581416\n",
      "52 95.1618581416\n",
      "53 95.584050247\n",
      "misfit: 95.584050247 93.1747642994\n",
      "54 93.1747642994\n",
      "misfit: 93.1747642994 92.9873651027\n",
      "55 92.9873651027\n",
      "misfit: 92.9873651027 92.6756834033\n",
      "56 92.6756834033\n",
      "misfit: 92.6756834033 90.9547887762\n",
      "57 90.9547887762\n",
      "misfit: 90.9547887762 88.9796136845\n",
      "58 88.9796136845\n",
      "misfit: 88.9796136845 69.9914265283\n"
     ]
    }
   ],
   "source": [
    "uncert = (np.r_[0.085*abs(obs.real)+np.linalg.norm(obs.real)*5e-5, 0.085*abs(obs.imag)+np.linalg.norm(obs.imag)*1e-6])\n",
    "m1 = zarc.GN(m0, uncert, maxiter=100)"
   ]
  },
  {
   "cell_type": "code",
   "execution_count": 48,
   "metadata": {
    "collapsed": false
   },
   "outputs": [
    {
     "data": {
      "text/plain": [
       "array([ -9.21034037,   9.21034037,  11.51292546,  11.51292546,\n",
       "         0.8       ,   9.21034037,   2.30258509,   0.5       ,\n",
       "         0.1       ,   6.90775528,   0.5       ,  23.02585093,\n",
       "        -9.21034037,   0.5       ,   0.05      ])"
      ]
     },
     "execution_count": 48,
     "metadata": {},
     "output_type": "execute_result"
    }
   ],
   "source": [
    "m0"
   ]
  },
  {
   "cell_type": "code",
   "execution_count": 49,
   "metadata": {
    "collapsed": false
   },
   "outputs": [
    {
     "data": {
      "text/plain": [
       "array([ -1.76607003e+01,  -1.13514382e+01,   1.24812432e+01,\n",
       "         1.08458000e+01,   7.95940646e-01,   1.07236803e+01,\n",
       "        -1.07095152e+00,   2.72174013e-01,   2.80832636e+00,\n",
       "         8.30028775e+00,   9.77276307e+00,   2.35541844e+01,\n",
       "        -7.64848091e+00,   1.89355359e+00,   8.08294866e-03])"
      ]
     },
     "execution_count": 49,
     "metadata": {},
     "output_type": "execute_result"
    }
   ],
   "source": [
    "m1"
   ]
  },
  {
   "cell_type": "code",
   "execution_count": 50,
   "metadata": {
    "collapsed": false
   },
   "outputs": [
    {
     "name": "stdout",
     "output_type": "stream",
     "text": [
      "263351.048008 16.5821424634 45418.7493236\n"
     ]
    }
   ],
   "source": [
    "print zarc.Rh, zarc.Rm, zarc.Rl"
   ]
  },
  {
   "cell_type": "code",
   "execution_count": 51,
   "metadata": {
    "collapsed": false
   },
   "outputs": [
    {
     "name": "stdout",
     "output_type": "stream",
     "text": [
      "51318.1595287 4025.03042777 0.342682294791\n"
     ]
    }
   ],
   "source": [
    "print zarc.Fh, zarc.Fm, zarc.Fl"
   ]
  },
  {
   "cell_type": "code",
   "execution_count": 52,
   "metadata": {
    "collapsed": false
   },
   "outputs": [
    {
     "name": "stdout",
     "output_type": "stream",
     "text": [
      "0.79594064626 9.77276307264 0.27217401323\n"
     ]
    }
   ],
   "source": [
    "print zarc.Ph, zarc.Pm, zarc.Pl"
   ]
  },
  {
   "cell_type": "code",
   "execution_count": 53,
   "metadata": {
    "collapsed": false
   },
   "outputs": [],
   "source": [
    "pred = zarc.dpred(m1)"
   ]
  },
  {
   "cell_type": "code",
   "execution_count": 54,
   "metadata": {
    "collapsed": false
   },
   "outputs": [
    {
     "data": {
      "text/plain": [
       "(40,)"
      ]
     },
     "execution_count": 54,
     "metadata": {},
     "output_type": "execute_result"
    }
   ],
   "source": [
    "frequency.shape"
   ]
  },
  {
   "cell_type": "code",
   "execution_count": 55,
   "metadata": {
    "collapsed": false
   },
   "outputs": [
    {
     "data": {
      "text/plain": [
       "[<matplotlib.lines.Line2D at 0x10973da50>]"
      ]
     },
     "execution_count": 55,
     "metadata": {},
     "output_type": "execute_result"
    },
    {
     "data": {
      "image/png": "[encoded data removed]",
      "text/plain": [
       "<matplotlib.figure.Figure at 0x107f35a90>"
      ]
     },
     "metadata": {},
     "output_type": "display_data"
    }
   ],
   "source": [
    "plt.loglog(frequency, obs.real, 'k')\n",
    "plt.loglog(frequency, -obs.imag, 'b')\n",
    "plt.loglog(frequency, pred[:40], 'ko')\n",
    "plt.loglog(frequency, -pred[40:], 'bo')"
   ]
  },
  {
   "cell_type": "code",
   "execution_count": 21,
   "metadata": {
    "collapsed": false
   },
   "outputs": [
    {
     "data": {
      "text/plain": [
       "[<matplotlib.lines.Line2D at 0x1083f3e50>]"
      ]
     },
     "execution_count": 21,
     "metadata": {},
     "output_type": "execute_result"
    },
    {
     "data": {
      "image/png": "[encoded data removed]",
      "text/plain": [
       "<matplotlib.figure.Figure at 0x10839a5d0>"
      ]
     },
     "metadata": {},
     "output_type": "display_data"
    }
   ],
   "source": [
    "plt.plot(obs.real[:-3], -obs.imag[:-3])\n",
    "plt.plot( pred[:40], -pred[40:], '.')\n",
    "plt.plot(pred0.real[:-3], -pred0.imag[:-3])"
   ]
  },
  {
   "cell_type": "code",
   "execution_count": 20,
   "metadata": {
    "collapsed": false
   },
   "outputs": [
    {
     "name": "stdout",
     "output_type": "stream",
     "text": [
      "3854859.13818 0.1 381489083714.0\n"
     ]
    }
   ],
   "source": [
    "print zarc.Fh, zarc.Fm, zarc.Fl"
   ]
  },
  {
   "cell_type": "code",
   "execution_count": 151,
   "metadata": {
    "collapsed": true
   },
   "outputs": [],
   "source": []
  },
  {
   "cell_type": "code",
   "execution_count": 153,
   "metadata": {
    "collapsed": false
   },
   "outputs": [],
   "source": [
    "# dm = m0*0.1\n",
    "# derChk = lambda m: [zarc.dpred(m), lambda mx: zarc.Jvec(m0, mx)]\n",
    "# passed = Tests.checkDerivative(derChk, m0, plotIt=False, dx = m0*2, num=4)"
   ]
  },
  {
   "cell_type": "code",
   "execution_count": null,
   "metadata": {
    "collapsed": false
   },
   "outputs": [],
   "source": []
  },
  {
   "cell_type": "code",
   "execution_count": null,
   "metadata": {
    "collapsed": true
   },
   "outputs": [],
   "source": [
    "model = np.ones(10)\n",
    "model[3] = np.nan"
   ]
  },
  {
   "cell_type": "code",
   "execution_count": null,
   "metadata": {
    "collapsed": false
   },
   "outputs": [],
   "source": [
    "for mod in model:\n",
    "    if ~np.isnan(mod):\n",
    "        print \"inactive model\"\n",
    "    else:\n",
    "        print mod"
   ]
  },
  {
   "cell_type": "code",
   "execution_count": null,
   "metadata": {
    "collapsed": false
   },
   "outputs": [],
   "source": [
    "np.linalg.solve??"
   ]
  },
  {
   "cell_type": "code",
   "execution_count": null,
   "metadata": {
    "collapsed": true
   },
   "outputs": [],
   "source": []
  }
 ],
 "metadata": {
  "kernelspec": {
   "display_name": "Python 2",
   "language": "python",
   "name": "python2"
  },
  "language_info": {
   "codemirror_mode": {
    "name": "ipython",
    "version": 2
   },
   "file_extension": ".py",
   "mimetype": "text/x-python",
   "name": "python",
   "nbconvert_exporter": "python",
   "pygments_lexer": "ipython2",
   "version": "2.7.10"
  }
 },
 "nbformat": 4,
 "nbformat_minor": 0
}
