{
 "cells": [
  {
   "cell_type": "code",
   "execution_count": 1,
   "metadata": {
    "collapsed": false
   },
   "outputs": [],
   "source": [
    "from ZarcfitCalculations import *\n",
    "import numpy as np"
   ]
  },
  {
   "cell_type": "code",
   "execution_count": 2,
   "metadata": {
    "collapsed": true
   },
   "outputs": [],
   "source": [
    "from SimPEG import Tests"
   ]
  },
  {
   "cell_type": "code",
   "execution_count": 3,
   "metadata": {
    "collapsed": true
   },
   "outputs": [],
   "source": [
    "%matplotlib inline\n",
    "import matplotlib.pyplot as plt"
   ]
  },
  {
   "cell_type": "code",
   "execution_count": 4,
   "metadata": {
    "collapsed": false
   },
   "outputs": [],
   "source": [
    "path = \"../data/HVC2014_10Grenon/\"\n",
    "# fnameobs = \"BC13867-A 2014-10-23.z\"\n",
    "# fnameobs = \"BC13871-B 2014-10-23.z\"\n",
    "# fnameobs = \"BC13890A 2014-10-23.z\"\n",
    "# fnameobs = \"BC13859 2014-10-23.z\"\n",
    "fnameobs = \"BC13877 2014-10-28.z\"\n",
    "pathobs = path+fnameobs\n",
    "temp = np.loadtxt(pathobs, skiprows=11, delimiter=\",\")\n",
    "obs = temp[:,4]+1j*temp[:,5]\n",
    "frequency = temp[:,0].copy()"
   ]
  },
  {
   "cell_type": "code",
   "execution_count": null,
   "metadata": {
    "collapsed": true
   },
   "outputs": [],
   "source": []
  },
  {
   "cell_type": "code",
   "execution_count": 5,
   "metadata": {
    "collapsed": false
   },
   "outputs": [],
   "source": [
    "zarc = ZarcfitCalculations(obs, frequency)"
   ]
  },
  {
   "cell_type": "code",
   "execution_count": 6,
   "metadata": {
    "collapsed": false
   },
   "outputs": [],
   "source": [
    "m0 = zarc.GetDefaultmodel()"
   ]
  },
  {
   "cell_type": "code",
   "execution_count": 7,
   "metadata": {
    "collapsed": true
   },
   "outputs": [],
   "source": [
    "pred0 = zarc.Zparallel(frequency)"
   ]
  },
  {
   "cell_type": "code",
   "execution_count": 103,
   "metadata": {
    "collapsed": false
   },
   "outputs": [
    {
     "name": "stdout",
     "output_type": "stream",
     "text": [
      "==================== checkDerivative ====================\n",
      "iter    h         |ft-f0|   |ft-f0-h*J0*dx|  Order\n",
      "---------------------------------------------------------\n",
      " 0   1.00e-01    6.107e+06     4.566e+06      nan\n",
      " 1   1.00e-02    1.748e+05     1.948e+04      2.370\n",
      " 2   1.00e-03    1.572e+04     1.814e+02      2.031\n",
      " 3   1.00e-04    1.555e+03     1.801e+00      2.003\n",
      "========================= PASS! =========================\n",
      "Not just a pretty face Sgkang\n",
      "\n"
     ]
    }
   ],
   "source": [
    "dm = m0*0.1\n",
    "derChk = lambda m: [zarc.dpred(m), lambda mx: zarc.Jvec(m0, mx)]\n",
    "passed = Tests.checkDerivative(derChk, m0, plotIt=False, dx = m0*2, num=4)"
   ]
  },
  {
   "cell_type": "code",
   "execution_count": 8,
   "metadata": {
    "collapsed": false
   },
   "outputs": [
    {
     "data": {
      "text/plain": [
       "[<matplotlib.lines.Line2D at 0x1076eec10>]"
      ]
     },
     "execution_count": 8,
     "metadata": {},
     "output_type": "execute_result"
    },
    {
     "data": {
      "image/png": "[encoded data removed]",
      "text/plain": [
       "<matplotlib.figure.Figure at 0x1074cfc10>"
      ]
     },
     "metadata": {},
     "output_type": "display_data"
    }
   ],
   "source": [
    "plt.loglog(frequency, obs.real)\n",
    "plt.loglog(frequency, -obs.imag)\n",
    "# plt.loglog(frequency, pred0.real)\n",
    "# plt.loglog(frequency, -pred0.imag)"
   ]
  },
  {
   "cell_type": "code",
   "execution_count": 9,
   "metadata": {
    "collapsed": false
   },
   "outputs": [],
   "source": [
    "# a = np.r_[obs.real, obs.imag]\n",
    "# b = np.r_[pred.real, pred.imag]\n",
    "# u = abs(a)*0.05"
   ]
  },
  {
   "cell_type": "code",
   "execution_count": 10,
   "metadata": {
    "collapsed": false
   },
   "outputs": [],
   "source": [
    "# np.linalg.norm((b-a)/u)**2"
   ]
  },
  {
   "cell_type": "code",
   "execution_count": 11,
   "metadata": {
    "collapsed": false
   },
   "outputs": [
    {
     "data": {
      "text/plain": [
       "array([ -9.21034037,   9.21034037,  11.51292546,  11.51292546,\n",
       "         0.5       ,   9.21034037,   2.30258509,   0.5       ,\n",
       "         0.1       ,   6.90775528,   0.5       ,  23.02585093,\n",
       "        -9.21034037,   0.5       ,   0.05      ])"
      ]
     },
     "execution_count": 11,
     "metadata": {},
     "output_type": "execute_result"
    }
   ],
   "source": [
    "inact = np.isnan(m0)\n",
    "m0[~inact]"
   ]
  },
  {
   "cell_type": "code",
   "execution_count": 93,
   "metadata": {
    "collapsed": false
   },
   "outputs": [
    {
     "name": "stdout",
     "output_type": "stream",
     "text": [
      "misfit: 1755.86957719 1648.64537635\n",
      "0 1648.64537635\n",
      "misfit: 1648.64537635 1088.85634217\n",
      "1 1088.85634217\n",
      "misfit: 1088.85634217 1085.95888465\n",
      "2 1085.95888465\n",
      "misfit: 1085.95888465 1078.40775922\n",
      "3 1078.40775922\n",
      "misfit: 1078.40775922 1048.82443701\n",
      "4 1048.82443701\n",
      "misfit: 1048.82443701 1046.58419945\n",
      "5 1046.58419945\n",
      "misfit: 1046.58419945 1046.05302831\n",
      "6 1046.05302831\n",
      "misfit: 1046.05302831 1041.05774152\n",
      "7 1041.05774152\n",
      "misfit: 1041.05774152 1033.72950519\n",
      "8 1033.72950519\n",
      "misfit: 1033.72950519 1026.98024853\n",
      "9 1026.98024853\n",
      "misfit: 1026.98024853 1026.56686016\n",
      "10 1026.56686016\n",
      "misfit: 1026.56686016 959.040094547\n",
      "11 959.040094547\n",
      "misfit: 959.040094547 889.430651987\n",
      "12 889.430651987\n",
      "misfit: 889.430651987 860.477243533\n",
      "13 860.477243533\n",
      "misfit: 860.477243533 771.323602691\n",
      "14 771.323602691\n",
      "misfit: 771.323602691 721.214658942\n",
      "15 721.214658942\n",
      "misfit: 721.214658942 686.197015861\n",
      "16 686.197015861\n",
      "misfit: 686.197015861 672.620908413\n",
      "17 672.620908413\n",
      "misfit: 672.620908413 656.603453199\n",
      "18 656.603453199\n",
      "misfit: 656.603453199 626.598393216\n",
      "19 626.598393216\n",
      "misfit: 626.598393216 611.470170637\n",
      "20 611.470170637\n",
      "misfit: 611.470170637 592.550057384\n",
      "21 592.550057384\n",
      "misfit: 592.550057384 567.658401165\n",
      "22 567.658401165\n",
      "misfit: 567.658401165 552.105993857\n",
      "23 552.105993857\n",
      "misfit: 552.105993857 358.355299104\n",
      "24 358.355299104\n",
      "misfit: 358.355299104 272.646690796\n",
      "25 272.646690796\n",
      "misfit: 272.646690796 272.326760375\n",
      "26 272.326760375\n",
      "misfit: 272.326760375 259.777909122\n",
      "27 259.777909122\n",
      "misfit: 259.777909122 146.092114004\n",
      "28 146.092114004\n",
      "misfit: 146.092114004 23.6524789269\n"
     ]
    }
   ],
   "source": [
    "uncert = (np.r_[0.085*abs(obs.real)+np.linalg.norm(obs.real)*5e-5, 0.0723*abs(obs.imag)+np.linalg.norm(obs.imag)*1e-6])\n",
    "m1 = zarc.GN(m0, uncert, maxiter=100)"
   ]
  },
  {
   "cell_type": "code",
   "execution_count": 94,
   "metadata": {
    "collapsed": false
   },
   "outputs": [
    {
     "data": {
      "text/plain": [
       "array([ -9.21034037,   9.21034037,  11.51292546,  11.51292546,\n",
       "         0.5       ,   9.21034037,   2.30258509,   0.5       ,\n",
       "         0.1       ,   6.90775528,   0.5       ,  23.02585093,\n",
       "        -9.21034037,   0.5       ,   0.05      ])"
      ]
     },
     "execution_count": 94,
     "metadata": {},
     "output_type": "execute_result"
    }
   ],
   "source": [
    "m0"
   ]
  },
  {
   "cell_type": "code",
   "execution_count": 95,
   "metadata": {
    "collapsed": false
   },
   "outputs": [
    {
     "data": {
      "text/plain": [
       "array([-21.20226941,  -3.47536336,  11.01738258,  12.18725821,\n",
       "         0.79793592,  11.14131179,  -1.85176255,   0.13446654,\n",
       "        -3.49517181,   0.20912213,   4.08802903,  22.98857102,\n",
       "        21.35799206,   4.64279358,   2.45984119])"
      ]
     },
     "execution_count": 95,
     "metadata": {},
     "output_type": "execute_result"
    }
   ],
   "source": [
    "m1"
   ]
  },
  {
   "cell_type": "code",
   "execution_count": 96,
   "metadata": {
    "collapsed": false
   },
   "outputs": [
    {
     "name": "stdout",
     "output_type": "stream",
     "text": [
      "60924.0070123 0.0303435345743 68962.0608528\n"
     ]
    }
   ],
   "source": [
    "print zarc.Rh, zarc.Rm, zarc.Rl"
   ]
  },
  {
   "cell_type": "code",
   "execution_count": 97,
   "metadata": {
    "collapsed": false
   },
   "outputs": [
    {
     "name": "stdout",
     "output_type": "stream",
     "text": [
      "196272.289887 1.23259552723 0.156960271824\n"
     ]
    }
   ],
   "source": [
    "print zarc.Fh, zarc.Fm, zarc.Fl"
   ]
  },
  {
   "cell_type": "code",
   "execution_count": 98,
   "metadata": {
    "collapsed": false
   },
   "outputs": [
    {
     "name": "stdout",
     "output_type": "stream",
     "text": [
      "0.797935920625 4.08802903423 0.134466543468\n"
     ]
    }
   ],
   "source": [
    "print zarc.Ph, zarc.Pm, zarc.Pl"
   ]
  },
  {
   "cell_type": "code",
   "execution_count": 99,
   "metadata": {
    "collapsed": false
   },
   "outputs": [],
   "source": [
    "pred = zarc.dpred(m1)"
   ]
  },
  {
   "cell_type": "code",
   "execution_count": 100,
   "metadata": {
    "collapsed": false
   },
   "outputs": [
    {
     "data": {
      "text/plain": [
       "(40,)"
      ]
     },
     "execution_count": 100,
     "metadata": {},
     "output_type": "execute_result"
    }
   ],
   "source": [
    "frequency.shape"
   ]
  },
  {
   "cell_type": "code",
   "execution_count": 101,
   "metadata": {
    "collapsed": false
   },
   "outputs": [
    {
     "data": {
      "text/plain": [
       "[<matplotlib.lines.Line2D at 0x10beb2090>]"
      ]
     },
     "execution_count": 101,
     "metadata": {},
     "output_type": "execute_result"
    },
    {
     "data": {
      "image/png": "[encoded data removed]",
      "text/plain": [
       "<matplotlib.figure.Figure at 0x10c1b1ed0>"
      ]
     },
     "metadata": {},
     "output_type": "display_data"
    }
   ],
   "source": [
    "plt.loglog(frequency, obs.real, 'k')\n",
    "plt.loglog(frequency, -obs.imag, 'b')\n",
    "plt.loglog(frequency, pred[:40], 'k.')\n",
    "plt.loglog(frequency, -pred[40:], 'b.')"
   ]
  },
  {
   "cell_type": "code",
   "execution_count": 90,
   "metadata": {
    "collapsed": false
   },
   "outputs": [
    {
     "data": {
      "text/plain": [
       "[<matplotlib.lines.Line2D at 0x10c105150>]"
      ]
     },
     "execution_count": 90,
     "metadata": {},
     "output_type": "execute_result"
    },
    {
     "data": {
      "image/png": "[encoded data removed]",
      "text/plain": [
       "<matplotlib.figure.Figure at 0x10bf80690>"
      ]
     },
     "metadata": {},
     "output_type": "display_data"
    }
   ],
   "source": [
    "plt.plot(obs.real[:-3], -obs.imag[:-3])\n",
    "plt.plot( pred[:40], -pred[40:], '.')\n",
    "# plt.plot(pred0.real[:-3], -pred0.imag[:-3])"
   ]
  },
  {
   "cell_type": "code",
   "execution_count": 92,
   "metadata": {
    "collapsed": false
   },
   "outputs": [
    {
     "name": "stdout",
     "output_type": "stream",
     "text": [
      "196272.289887 1.23259552723 0.156960271824\n"
     ]
    }
   ],
   "source": [
    "print zarc.Fh, zarc.Fm, zarc.Fl"
   ]
  }
 ],
 "metadata": {
  "kernelspec": {
   "display_name": "Python 2",
   "language": "python",
   "name": "python2"
  },
  "language_info": {
   "codemirror_mode": {
    "name": "ipython",
    "version": 2
   },
   "file_extension": ".py",
   "mimetype": "text/x-python",
   "name": "python",
   "nbconvert_exporter": "python",
   "pygments_lexer": "ipython2",
   "version": "2.7.10"
  }
 },
 "nbformat": 4,
 "nbformat_minor": 0
}
