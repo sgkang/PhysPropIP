{
 "cells": [
  {
   "cell_type": "code",
   "execution_count": 1,
   "metadata": {
    "collapsed": false
   },
   "outputs": [
    {
     "name": "stdout",
     "output_type": "stream",
     "text": [
      "Populating the interactive namespace from numpy and matplotlib\n"
     ]
    }
   ],
   "source": [
    "%pylab inline"
   ]
  },
  {
   "cell_type": "code",
   "execution_count": 2,
   "metadata": {
    "collapsed": true
   },
   "outputs": [],
   "source": [
    "import pandas as pd"
   ]
  },
  {
   "cell_type": "markdown",
   "metadata": {},
   "source": [
    "<img src=\"./img/Circuit.png\" style=\"width: 50%; height: 50%\"> </img>"
   ]
  },
  {
   "cell_type": "markdown",
   "metadata": {},
   "source": [
    "<img src=\"./img/treqs.png\" style=\"width: 30%; height: 30%\"> </img>"
   ]
  },
  {
   "cell_type": "code",
   "execution_count": 3,
   "metadata": {
    "collapsed": true
   },
   "outputs": [],
   "source": [
    "def CPEfun(Rx, Qx, px, freq):\n",
    "    out = np.zeros_like(freq, dtype=complex128)\n",
    "    out = 1./(1./Rx + Qx*(np.pi*2*freq*1j)**px)\n",
    "    return out\n",
    "\n",
    "def CPEfunElec(Rx, Qx, pex, pix, freq):\n",
    "    out = np.zeros_like(freq, dtype=complex128)\n",
    "    out = 1./(1./Rx + (1j)**pix*Qx*(np.pi*2*freq)**pex)\n",
    "    return out\n",
    "\n",
    "def CPEfunSeries(Rx, Qx, px, freq):\n",
    "    out = np.zeros_like(freq, dtype=complex128)\n",
    "    out = Rx + 1./(Qx*(np.pi*2*freq*1j)**px)\n",
    "    return out"
   ]
  },
  {
   "cell_type": "code",
   "execution_count": 4,
   "metadata": {
    "collapsed": true
   },
   "outputs": [],
   "source": [
    "pathforPK = \"/Users/sgkang/Google Drive/Zarcfit/nt01213a.z\"\n",
    "pathfordata = \"../data/Kimberlite-2015-07-17.xls\"\n",
    "temp = np.loadtxt(pathforPK, skiprows=11, delimiter=\",\")\n",
    "data = pd.read_excel(pathfordata)\n",
    "data_active = data.loc[np.logical_and((data['Facies'] == 'XVK')|(data['Facies'] == 'PK')|(data['Facies'] == 'HK')|(data['Facies'] == 'VK'), data.notnull()['Rinf']==True)][[\"Facies\", \"0LabID (PCG)\", \"Peregrine ID\", \"(Latitude)\", \"(Longitude)\", \"Depth (m)\",\"Mag Susc [SI]\",\"Resistivity [Ohm.m]\",\"Geometric Factor [m]\",\"Sat Geometric Dens [g/cc]\",\"Chargeability [ms]\",\"Rinf\",\"Ro\",\"Rh\",\"Qh\",\"Ph\", \"Fh\",\"pRh\", \"pQh\",\"Rm\",\"Qm\",\"Pm\", \"pRm\", \"pQm\",\"Rl\",\"Ql\",\"Pl\", \"Fl\", \"pRl\", \"pQl\",\"Re\",\"Qe\",\"Pe-f\",\"Pe-i\"]]"
   ]
  },
  {
   "cell_type": "code",
   "execution_count": 5,
   "metadata": {
    "collapsed": false
   },
   "outputs": [
    {
     "name": "stderr",
     "output_type": "stream",
     "text": [
      "/Users/sgkang/anaconda/envs/py3/lib/python3.4/site-packages/pandas/core/frame.py:1825: UserWarning: Boolean Series key will be reindexed to match DataFrame index.\n",
      "  \"DataFrame index.\", UserWarning)\n"
     ]
    }
   ],
   "source": [
    "R0 = data_active[data['0LabID (PCG)'] == 'NT01213']['Ro'].values[0]\n",
    "Rinf = data_active[data['0LabID (PCG)'] == 'NT01213']['Rinf'].values[0]\n",
    "Rh = data_active[data['0LabID (PCG)'] == 'NT01213']['Rh'].values[0]\n",
    "Qh = data_active[data['0LabID (PCG)'] == 'NT01213']['Qh'].values[0]\n",
    "pRh = data_active[data['0LabID (PCG)'] == 'NT01213']['pRh'].values[0]\n",
    "pQh = data_active[data['0LabID (PCG)'] == 'NT01213']['pQh'].values[0]\n",
    "Ph = data_active[data['0LabID (PCG)'] == 'NT01213']['Ph'].values[0]\n",
    "Fh = data_active[data['0LabID (PCG)'] == 'NT01213']['Fh'].values[0]\n",
    "Rl = data_active[data['0LabID (PCG)'] == 'NT01213']['Rl'].values[0]\n",
    "Ql = data_active[data['0LabID (PCG)'] == 'NT01213']['Ql'].values[0]\n",
    "pRl = data_active[data['0LabID (PCG)'] == 'NT01213']['pRl'].values[0]\n",
    "pQl = data_active[data['0LabID (PCG)'] == 'NT01213']['pQl'].values[0]\n",
    "Pl = data_active[data['0LabID (PCG)'] == 'NT01213']['Pl'].values[0]\n",
    "Re = data_active[data['0LabID (PCG)'] == 'NT01213']['Re'].values[0]\n",
    "Qe = data_active[data['0LabID (PCG)'] == 'NT01213']['Qe'].values[0]\n",
    "Pef = data_active[data['0LabID (PCG)'] == 'NT01213']['Pe-f'].values[0]\n",
    "Pei = data_active[data['0LabID (PCG)'] == 'NT01213']['Pe-i'].values[0]"
   ]
  },
  {
   "cell_type": "code",
   "execution_count": 6,
   "metadata": {
    "collapsed": false
   },
   "outputs": [
    {
     "name": "stderr",
     "output_type": "stream",
     "text": [
      "/Users/sgkang/anaconda/envs/py3/lib/python3.4/site-packages/pandas/core/frame.py:1825: UserWarning: Boolean Series key will be reindexed to match DataFrame index.\n",
      "  \"DataFrame index.\", UserWarning)\n"
     ]
    }
   ],
   "source": []
  },
  {
   "cell_type": "code",
   "execution_count": 7,
   "metadata": {
    "collapsed": false
   },
   "outputs": [
    {
     "name": "stderr",
     "output_type": "stream",
     "text": [
      "/Users/sgkang/anaconda/envs/py3/lib/python3.4/site-packages/pandas/core/frame.py:1825: UserWarning: Boolean Series key will be reindexed to match DataFrame index.\n",
      "  \"DataFrame index.\", UserWarning)\n"
     ]
    }
   ],
   "source": []
  },
  {
   "cell_type": "code",
   "execution_count": 8,
   "metadata": {
    "collapsed": false
   },
   "outputs": [
    {
     "name": "stderr",
     "output_type": "stream",
     "text": [
      "/Users/sgkang/anaconda/envs/py3/lib/python3.4/site-packages/pandas/core/frame.py:1825: UserWarning: Boolean Series key will be reindexed to match DataFrame index.\n",
      "  \"DataFrame index.\", UserWarning)\n"
     ]
    }
   ],
   "source": []
  },
  {
   "cell_type": "code",
   "execution_count": 9,
   "metadata": {
    "collapsed": false
   },
   "outputs": [
    {
     "name": "stderr",
     "output_type": "stream",
     "text": [
      "/Users/sgkang/anaconda/envs/py3/lib/python3.4/site-packages/pandas/core/frame.py:1825: UserWarning: Boolean Series key will be reindexed to match DataFrame index.\n",
      "  \"DataFrame index.\", UserWarning)\n"
     ]
    },
    {
     "data": {
      "text/html": [
       "<div>\n",
       "<table border=\"1\" class=\"dataframe\">\n",
       "  <thead>\n",
       "    <tr style=\"text-align: right;\">\n",
       "      <th></th>\n",
       "      <th>Facies</th>\n",
       "      <th>0LabID (PCG)</th>\n",
       "      <th>Peregrine ID</th>\n",
       "      <th>(Latitude)</th>\n",
       "      <th>(Longitude)</th>\n",
       "      <th>Depth (m)</th>\n",
       "      <th>Mag Susc [SI]</th>\n",
       "      <th>Resistivity [Ohm.m]</th>\n",
       "      <th>Geometric Factor [m]</th>\n",
       "      <th>Sat Geometric Dens [g/cc]</th>\n",
       "      <th>...</th>\n",
       "      <th>Rl</th>\n",
       "      <th>Ql</th>\n",
       "      <th>Pl</th>\n",
       "      <th>Fl</th>\n",
       "      <th>pRl</th>\n",
       "      <th>pQl</th>\n",
       "      <th>Re</th>\n",
       "      <th>Qe</th>\n",
       "      <th>Pe-f</th>\n",
       "      <th>Pe-i</th>\n",
       "    </tr>\n",
       "  </thead>\n",
       "  <tbody>\n",
       "    <tr>\n",
       "      <th>25</th>\n",
       "      <td>PK</td>\n",
       "      <td>NT01213</td>\n",
       "      <td>K1P-0807</td>\n",
       "      <td>64.327019</td>\n",
       "      <td>-109.814587</td>\n",
       "      <td>92</td>\n",
       "      <td>0.000504</td>\n",
       "      <td>90.160425</td>\n",
       "      <td>0.025462</td>\n",
       "      <td>2.245943</td>\n",
       "      <td>...</td>\n",
       "      <td>2.075</td>\n",
       "      <td>0.02219</td>\n",
       "      <td>0.4117</td>\n",
       "      <td>281.1</td>\n",
       "      <td>6070000</td>\n",
       "      <td>7.58e-09</td>\n",
       "      <td>10000000000</td>\n",
       "      <td>0.0009194</td>\n",
       "      <td>0.6584</td>\n",
       "      <td>0.5648</td>\n",
       "    </tr>\n",
       "    <tr>\n",
       "      <th>33</th>\n",
       "      <td>PK</td>\n",
       "      <td>NT01217</td>\n",
       "      <td>K1P-0825</td>\n",
       "      <td>64.325336</td>\n",
       "      <td>-109.817348</td>\n",
       "      <td>157</td>\n",
       "      <td>0.000272</td>\n",
       "      <td>20.391961</td>\n",
       "      <td>0.021703</td>\n",
       "      <td>2.244102</td>\n",
       "      <td>...</td>\n",
       "      <td>347.6</td>\n",
       "      <td>5.092e-06</td>\n",
       "      <td>0.6585</td>\n",
       "      <td>2406</td>\n",
       "      <td>1607</td>\n",
       "      <td>6.947e-07</td>\n",
       "      <td>10000000000</td>\n",
       "      <td>0.01008</td>\n",
       "      <td>0.2251</td>\n",
       "      <td>0.7095</td>\n",
       "    </tr>\n",
       "  </tbody>\n",
       "</table>\n",
       "<p>2 rows × 34 columns</p>\n",
       "</div>"
      ],
      "text/plain": [
       "   Facies 0LabID (PCG) Peregrine ID  (Latitude)  (Longitude)  Depth (m)  \\\n",
       "25     PK      NT01213     K1P-0807   64.327019  -109.814587         92   \n",
       "33     PK      NT01217     K1P-0825   64.325336  -109.817348        157   \n",
       "\n",
       "    Mag Susc [SI]  Resistivity [Ohm.m]  Geometric Factor [m]  \\\n",
       "25       0.000504            90.160425              0.025462   \n",
       "33       0.000272            20.391961              0.021703   \n",
       "\n",
       "    Sat Geometric Dens [g/cc]   ...       Rl         Ql      Pl     Fl  \\\n",
       "25                   2.245943   ...    2.075    0.02219  0.4117  281.1   \n",
       "33                   2.244102   ...    347.6  5.092e-06  0.6585   2406   \n",
       "\n",
       "        pRl        pQl           Re         Qe    Pe-f    Pe-i  \n",
       "25  6070000   7.58e-09  10000000000  0.0009194  0.6584  0.5648  \n",
       "33     1607  6.947e-07  10000000000    0.01008  0.2251  0.7095  \n",
       "\n",
       "[2 rows x 34 columns]"
      ]
     },
     "execution_count": 9,
     "metadata": {},
     "output_type": "execute_result"
    }
   ],
   "source": [
    "data_active[data['Facies'] == 'PK']"
   ]
  },
  {
   "cell_type": "code",
   "execution_count": 10,
   "metadata": {
    "collapsed": false
   },
   "outputs": [],
   "source": [
    "# Rh, Qh, Ph = 3250, 1e-6, 0.422\n",
    "def fitfun(R0, Rh, Qh, Ph, Rl, Ql, Pl, Re, Qe, Pef, Pei):\n",
    "    Zh = CPEfunSeries(Rh, Qh, Ph, frequency)\n",
    "    Zl = CPEfunSeries(Rl, Ql, Pl, frequency)\n",
    "    Ze = CPEfunElec(Re, Qe, Pef, Pei, frequency)\n",
    "    Z = 1./(1./R0+1./Zh+1./Zl)+Ze\n",
    "    fig = plt.figure(figsize = (12, 4))\n",
    "    ax = plt.subplot(121)\n",
    "    ax1 = plt.subplot(122)\n",
    "    ax.loglog(temp[:,0], temp[:,4], 'k-')\n",
    "    ax1.loglog(temp[:,0], abs(temp[:,5]), 'r-')\n",
    "    ax.loglog(temp[:,0], Z.real, 'k.')\n",
    "    ax1.loglog(temp[:,0], abs(Z.imag), 'r.')\n",
    "\n",
    "    ax.grid(True)\n",
    "    # ax.set_ylim(temp[:,4].min(), temp[:,4].max())\n",
    "#     ax1.set_ylim(abs(temp[:,5]).min(), abs(temp[:,5]).max())\n",
    "    ax.invert_xaxis()\n",
    "    ax1.invert_xaxis()\n",
    "    return plt.show()"
   ]
  },
  {
   "cell_type": "code",
   "execution_count": 11,
   "metadata": {
    "collapsed": true
   },
   "outputs": [],
   "source": [
    "frequency = temp[:,0].copy()"
   ]
  },
  {
   "cell_type": "code",
   "execution_count": 13,
   "metadata": {
    "collapsed": false
   },
   "outputs": [],
   "source": [
    "# from ipywidgets import interact, FloatText, FloatSlider\n"
   ]
  },
  {
   "cell_type": "code",
   "execution_count": 14,
   "metadata": {
    "collapsed": false
   },
   "outputs": [
    {
     "data": {
      "image/png": "[encoded data removed]",
      "text/plain": [
       "<matplotlib.figure.Figure at 0x108023b70>"
      ]
     },
     "metadata": {},
     "output_type": "display_data"
    },
    {
     "data": {
      "text/plain": [
       "<function __main__.fitfun>"
      ]
     },
     "execution_count": 14,
     "metadata": {},
     "output_type": "execute_result"
    }
   ],
   "source": [
    "from IPython.html.widgets import interact, FloatText, FloatSlider\n",
    "interact(fitfun, R0=FloatText(value=R0),\\\n",
    "    Rh=FloatText(value=pRh), Qh=FloatText(value=pQh), \n",
    "    Ph=FloatSlider(min = 0.1, max = 1., step = 0.1, value=Ph),\n",
    "    Rl=FloatText(value=1.), Ql=FloatText(value=pQl), Pl=FloatText(value=Pl),        \n",
    "    Re=FloatText(value=Re), Qe=FloatText(value=Qe), Pef=FloatText(value=Pef), Pei=FloatText(value=Pei))"
   ]
  },
  {
   "cell_type": "code",
   "execution_count": 19,
   "metadata": {
    "collapsed": false
   },
   "outputs": [
    {
     "data": {
      "image/png": "[encoded data removed]",
      "text/plain": [
       "<matplotlib.figure.Figure at 0x110834590>"
      ]
     },
     "metadata": {},
     "output_type": "display_data"
    },
    {
     "data": {
      "text/plain": [
       "None"
      ]
     },
     "metadata": {},
     "output_type": "display_data"
    },
    {
     "data": {
      "text/plain": [
       "<function __main__.fitfun>"
      ]
     },
     "execution_count": 19,
     "metadata": {},
     "output_type": "execute_result"
    }
   ],
   "source": [
    "interact(fitfun, R0=FloatText(value=3290),\\\n",
    "    Rh=FloatText(value=34.7), Qh=FloatText(value=3.97e-7), Ph=FloatText(value=0.422),\n",
    "    Rl=FloatText(value=1e10), Ql=FloatText(value=1.1e-6), Pl=FloatText(value=0.364),        \n",
    "    Re=FloatText(value=264), Qe=FloatText(value=4.75e-4), Pef=FloatText(value=1.), Pei=FloatText(value=1.17))"
   ]
  },
  {
   "cell_type": "code",
   "execution_count": 16,
   "metadata": {
    "collapsed": true
   },
   "outputs": [],
   "source": [
    "f0peak = lambda R, Q, P: (R*Q)**(-1./P)/np.pi/2.\n",
    "taupeak = lambda R, Q, P: (R*Q)**(1./P)\n",
    "rhoinf = lambda rhom, rhol, rho0: 1./(1./rho0+1./rhom+1./rhol)\n",
    "charg = lambda rhoinf, rho0: (rho0-rhoinf) / rhoinf\n",
    "\n",
    "def TKCColeColeParallel(frequency, R0, Rh, Qh, Ph, Rl, Ql, Pl, geom=1.):\n",
    "    fpeakl = f0peak(Rl, Ql, Pl)\n",
    "    rhol = CPEfunSeries(Rl, Ql, Pl, frequency)*geom\n",
    "    rho0 = R0*geom\n",
    "    rhoinf = 1./(1./R0+1./Rl)\n",
    "    m = (rho0-rhoinf)/rho0\n",
    "    rho = 1./(1./rho0+1./rhol)\n",
    "    \n",
    "    fig, ax = plt.subplots(1, 2, figsize = (15, 3))\n",
    "    ax[0].semilogx(frequency, rho.real, 'k-', lw=2)\n",
    "    ax1 = ax[0].twinx()\n",
    "    ax1.semilogx(frequency, (rho.imag), 'k--', lw=2)\n",
    "    ax1.invert_yaxis()\n",
    "    ax[0].grid(True)\n",
    "    ax[1].plot(rho.real, rho.imag, 'k-')\n",
    "\n",
    "    ax[1].invert_yaxis()\n",
    "    ax[1].grid(True)\n",
    "\n",
    "    \n",
    "    print \"R0 = \", rho0\n",
    "    print \"Rinf = \", rhoinf\n",
    "    print \"Chargeability = \", m    \n",
    "    print \"Tau = \", 1./fpeakl  \n",
    "    return "
   ]
  },
  {
   "cell_type": "code",
   "execution_count": 17,
   "metadata": {
    "collapsed": false
   },
   "outputs": [
    {
     "name": "stdout",
     "output_type": "stream",
     "text": [
      "R0 =  91.44\n",
      "Rinf =  3371.42857143\n",
      "Chargeability =  -35.8703912011\n",
      "Tau =  0.00256689708585\n"
     ]
    },
    {
     "data": {
      "image/png": "[encoded data removed]",
      "text/plain": [
       "<matplotlib.figure.Figure at 0x10e5ba990>"
      ]
     },
     "metadata": {},
     "output_type": "display_data"
    }
   ],
   "source": [
    "R0 = 3600\n",
    "Rh, Qh, Ph = 34.7, 3.97e-7, 0.422\n",
    "Rl, Ql, Pl = 5.31e4, 1.1e-6, 0.364\n",
    "# frequency = temp[:,0].copy()\n",
    "frequency = np.logspace(-7, 10, 101)\n",
    "TKCColeColeParallel(frequency, R0, Rh, Qh, Ph, Rl, Ql, Pl, geom = 0.0254)"
   ]
  },
  {
   "cell_type": "code",
   "execution_count": 18,
   "metadata": {
    "collapsed": false
   },
   "outputs": [
    {
     "data": {
      "text/plain": [
       "(1.5569720885901273, 1.9486571969681217)"
      ]
     },
     "execution_count": 18,
     "metadata": {},
     "output_type": "execute_result"
    },
    {
     "data": {
      "image/png": "[encoded data removed]",
      "text/plain": [
       "<matplotlib.figure.Figure at 0x10ef92e50>"
      ]
     },
     "metadata": {},
     "output_type": "display_data"
    }
   ],
   "source": [
    "import scipy as sp\n",
    "amp = lambda x, y: np.sqrt(x**2+y**2)\n",
    "fig = plt.figure(figsize = (8, 4))\n",
    "frequency = temp[:,0].copy()\n",
    "ax = plt.subplot(111)\n",
    "ax1 = ax.twinx()\n",
    "ax.loglog(temp[:,0], amp(temp[:,4], temp[:,5]), 'k.-')\n",
    "ax1.loglog(temp[:,0], sp.arctan2(temp[:,4], temp[:,5]), 'r.-')\n",
    "ax.invert_xaxis()\n",
    "ax.grid(True)\n",
    "ax.set_ylim(amp(temp[:,4], temp[:,5]).min(), amp(temp[:,4], temp[:,5]).max() )\n",
    "ax1.set_ylim(sp.arctan2(temp[:,4], temp[:,5]).min(), sp.arctan2(temp[:,4], temp[:,5]).max() )"
   ]
  }
 ],
 "metadata": {
  "kernelspec": {
   "display_name": "Python 3",
   "language": "python",
   "name": "python3"
  },
  "language_info": {
   "codemirror_mode": {
    "name": "ipython",
    "version": 3
   },
   "file_extension": ".py",
   "mimetype": "text/x-python",
   "name": "python",
   "nbconvert_exporter": "python",
   "pygments_lexer": "ipython3",
   "version": "3.4.3"
  }
 },
 "nbformat": 4,
 "nbformat_minor": 0
}
