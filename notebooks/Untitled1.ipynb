{
 "cells": [
  {
   "cell_type": "code",
   "execution_count": 1,
   "metadata": {
    "collapsed": false
   },
   "outputs": [
    {
     "name": "stdout",
     "output_type": "stream",
     "text": [
      "Populating the interactive namespace from numpy and matplotlib\n"
     ]
    }
   ],
   "source": [
    "from ZarcfitCalculations import ZarcfitCalculations, SetDefaultParameters\n",
    "import numpy as np\n",
    "import pandas as pd\n",
    "import matplotlib\n",
    "\n",
    "%pylab inline"
   ]
  },
  {
   "cell_type": "code",
   "execution_count": 5,
   "metadata": {
    "collapsed": false
   },
   "outputs": [],
   "source": [
    "path = \"../data/HVC2014_10Grenon/\"\n",
    "fnameobs = \"BC13867-A 2014-10-23.z\"\n",
    "fnamepred = \"HVC 2014-10-27simplified.csv\"\n",
    "pathobs = path+fnameobs\n",
    "pathpred = path+fnamepred\n",
    "temp = np.loadtxt(pathobs, skiprows=11, delimiter=\",\")\n",
    "data = pd.read_csv(pathpred)\n",
    "data_active = data.loc[np.logical_and(data[\"Fl\"]<20., data[\"Fm\"]>1.)]"
   ]
  },
  {
   "cell_type": "code",
   "execution_count": 17,
   "metadata": {
    "collapsed": false
   },
   "outputs": [],
   "source": [
    "obs = temp[:,4]+1j*temp[:,5]\n",
    "frequency = temp[:,0].copy()\n",
    "nfreq = len(frequency)\n",
    "zarc = ZarcfitCalculations(obs, frequency)\n",
    "Linf, Rinf, Rh, Fh, Ph, Rl, Fl, Pl, Rm, Fm, Pm, Re, Qe, Pef, Pei  = SetDefaultParameters()\n",
    "zarc.SetParametersSeries(Linf, Rinf, Rh, Fh, Ph, Rl, Fl, Pl, Rm, Fm, Pm, Re, Qe, Pef, Pei)"
   ]
  },
  {
   "cell_type": "code",
   "execution_count": null,
   "metadata": {
    "collapsed": true
   },
   "outputs": [],
   "source": []
  },
  {
   "cell_type": "code",
   "execution_count": null,
   "metadata": {
    "collapsed": true
   },
   "outputs": [],
   "source": [
    "zarc = ZarcfitCalculations()"
   ]
  }
 ],
 "metadata": {
  "kernelspec": {
   "display_name": "Python 2",
   "language": "python",
   "name": "python2"
  },
  "language_info": {
   "codemirror_mode": {
    "name": "ipython",
    "version": 2
   },
   "file_extension": ".py",
   "mimetype": "text/x-python",
   "name": "python",
   "nbconvert_exporter": "python",
   "pygments_lexer": "ipython2",
   "version": "2.7.10"
  }
 },
 "nbformat": 4,
 "nbformat_minor": 0
}
