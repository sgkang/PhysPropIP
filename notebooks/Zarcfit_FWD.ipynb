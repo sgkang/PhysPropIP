{
 "cells": [
  {
   "cell_type": "code",
   "execution_count": 1,
   "metadata": {
    "collapsed": false
   },
   "outputs": [
    {
     "name": "stdout",
     "output_type": "stream",
     "text": [
      "Populating the interactive namespace from numpy and matplotlib\n"
     ]
    }
   ],
   "source": [
    "import pandas as pd\n",
    "%pylab inline"
   ]
  },
  {
   "cell_type": "code",
   "execution_count": 275,
   "metadata": {
    "collapsed": true
   },
   "outputs": [],
   "source": [
    "def CPEfun(Rx, Qx, px, freq):\n",
    "    out = np.zeros_like(freq, dtype=complex128)\n",
    "    out = 1./(1./Rx + Qx*(np.pi*2*freq*1j)**px)\n",
    "    return out\n",
    "\n",
    "def CPEfunElec(Rx, Qx, pex, pix, freq):\n",
    "    out = np.zeros_like(freq, dtype=complex128)\n",
    "    out = 1./(1./Rx + (1j)**pix*Qx*(np.pi*2*freq)**pex)\n",
    "    return out\n",
    "\n",
    "def CPEfunSeries(Rx, Qx, px, freq):\n",
    "    out = np.zeros_like(freq, dtype=complex128)\n",
    "    out = Rx + 1./(Qx*(np.pi*2*freq*1j)**px)\n",
    "    return out"
   ]
  },
  {
   "cell_type": "code",
   "execution_count": 276,
   "metadata": {
    "collapsed": false
   },
   "outputs": [],
   "source": [
    "pathforPK = \"/Users/sgkang/Google Drive/Zarcfit/nt01213a.z\"\n",
    "pathfordata = \"../data/Kimberlite-2015-07-17.xls\"\n",
    "temp = np.loadtxt(pathforPK, skiprows=11, delimiter=\",\")\n",
    "frequency = temp[:,0].copy()\n",
    "data = pd.read_excel(pathfordata)\n",
    "data_active = data.loc[np.logical_and((data['Facies'] == 'XVK')|(data['Facies'] == 'PK')|(data['Facies'] == 'HK')|(data['Facies'] == 'VK'), data.notnull()['Rinf']==True)][[\"Facies\", \"0LabID (PCG)\", \"Peregrine ID\", \"(Latitude)\", \"(Longitude)\", \"Depth (m)\",\"Mag Susc [SI]\",\"Resistivity [Ohm.m]\",\"Geometric Factor [m]\",\"Sat Geometric Dens [g/cc]\",\"Chargeability [ms]\",\"Rinf\",\"Ro\",\"Rh\",\"Qh\",\"Ph\", \"Fh\",\"pRh\", \"pQh\",\"Rm\",\"Qm\",\"Pm\", \"pRm\", \"pQm\",\"Rl\",\"Ql\",\"Pl\", \"Fl\", \"pRl\", \"pQl\",\"Re\",\"Qe\",\"Pe-f\",\"Pe-i\"]]"
   ]
  },
  {
   "cell_type": "code",
   "execution_count": 277,
   "metadata": {
    "collapsed": false
   },
   "outputs": [],
   "source": [
    "# data_active[data['Facies'] == 'HK']"
   ]
  },
  {
   "cell_type": "code",
   "execution_count": 278,
   "metadata": {
    "collapsed": true
   },
   "outputs": [],
   "source": [
    "labid = 'NT01213'"
   ]
  },
  {
   "cell_type": "code",
   "execution_count": 279,
   "metadata": {
    "collapsed": false
   },
   "outputs": [
    {
     "name": "stderr",
     "output_type": "stream",
     "text": [
      "/Users/sgkang/anaconda/envs/py3/lib/python3.4/site-packages/pandas/core/frame.py:1825: UserWarning: Boolean Series key will be reindexed to match DataFrame index.\n",
      "  \"DataFrame index.\", UserWarning)\n"
     ]
    }
   ],
   "source": [
    "R0 = data_active[data['0LabID (PCG)'] == labid]['Ro'].values[0]\n",
    "Rinf = data_active[data['0LabID (PCG)'] == labid]['Rinf'].values[0]\n",
    "Rh = data_active[data['0LabID (PCG)'] == labid]['Rh'].values[0]\n",
    "Qh = data_active[data['0LabID (PCG)'] == labid]['Qh'].values[0]\n",
    "pRh = data_active[data['0LabID (PCG)'] == labid]['pRh'].values[0]\n",
    "pQh = data_active[data['0LabID (PCG)'] == labid]['pQh'].values[0]\n",
    "Ph = data_active[data['0LabID (PCG)'] == labid]['Ph'].values[0]\n",
    "Fh = data_active[data['0LabID (PCG)'] == labid]['Fh'].values[0]\n",
    "Rl = data_active[data['0LabID (PCG)'] == labid]['Rl'].values[0]\n",
    "Ql = data_active[data['0LabID (PCG)'] == labid]['Ql'].values[0]\n",
    "pRl = data_active[data['0LabID (PCG)'] == labid]['pRl'].values[0]\n",
    "pQl = data_active[data['0LabID (PCG)'] == labid]['pQl'].values[0]\n",
    "Pl = data_active[data['0LabID (PCG)'] == labid]['Pl'].values[0]\n",
    "Re = data_active[data['0LabID (PCG)'] == labid]['Re'].values[0]\n",
    "Qe = data_active[data['0LabID (PCG)'] == labid]['Qe'].values[0]\n",
    "Pef = data_active[data['0LabID (PCG)'] == labid]['Pe-f'].values[0]\n",
    "Pei = data_active[data['0LabID (PCG)'] == labid]['Pe-i'].values[0]"
   ]
  },
  {
   "cell_type": "code",
   "execution_count": 280,
   "metadata": {
    "collapsed": true
   },
   "outputs": [],
   "source": [
    "obs = temp[:,4]+1j*temp[:,5]"
   ]
  },
  {
   "cell_type": "code",
   "execution_count": 285,
   "metadata": {
    "collapsed": false
   },
   "outputs": [
    {
     "ename": "ImportError",
     "evalue": "No module named 'Utils'",
     "output_type": "error",
     "traceback": [
      "\u001b[0;31m---------------------------------------------------------------------------\u001b[0m",
      "\u001b[0;31mImportError\u001b[0m                               Traceback (most recent call last)",
      "\u001b[0;32m<ipython-input-285-6da043cd163b>\u001b[0m in \u001b[0;36m<module>\u001b[0;34m()\u001b[0m\n\u001b[0;32m----> 1\u001b[0;31m \u001b[0;32mfrom\u001b[0m \u001b[0mSimPEG\u001b[0m \u001b[0;32mimport\u001b[0m \u001b[0mMesh\u001b[0m\u001b[0;34m\u001b[0m\u001b[0m\n\u001b[0m",
      "\u001b[0;32m/Users/sgkang/Projects/simpeg/SimPEG/__init__.py\u001b[0m in \u001b[0;36m<module>\u001b[0;34m()\u001b[0m\n\u001b[1;32m      1\u001b[0m \u001b[0;32mimport\u001b[0m \u001b[0mnumpy\u001b[0m \u001b[0;32mas\u001b[0m \u001b[0mnp\u001b[0m\u001b[0;34m\u001b[0m\u001b[0m\n\u001b[1;32m      2\u001b[0m \u001b[0;32mimport\u001b[0m \u001b[0mscipy\u001b[0m\u001b[0;34m.\u001b[0m\u001b[0msparse\u001b[0m \u001b[0;32mas\u001b[0m \u001b[0msp\u001b[0m\u001b[0;34m\u001b[0m\u001b[0m\n\u001b[0;32m----> 3\u001b[0;31m \u001b[0;32mimport\u001b[0m \u001b[0mUtils\u001b[0m\u001b[0;34m\u001b[0m\u001b[0m\n\u001b[0m\u001b[1;32m      4\u001b[0m \u001b[0;32mfrom\u001b[0m \u001b[0mUtils\u001b[0m\u001b[0;34m.\u001b[0m\u001b[0mSolverUtils\u001b[0m \u001b[0;32mimport\u001b[0m \u001b[0;34m*\u001b[0m\u001b[0;34m\u001b[0m\u001b[0m\n\u001b[1;32m      5\u001b[0m \u001b[0;32mimport\u001b[0m \u001b[0mMesh\u001b[0m\u001b[0;34m\u001b[0m\u001b[0m\n",
      "\u001b[0;31mImportError\u001b[0m: No module named 'Utils'"
     ]
    }
   ],
   "source": []
  },
  {
   "cell_type": "code",
   "execution_count": 473,
   "metadata": {
    "collapsed": false
   },
   "outputs": [],
   "source": [
    "def fitfun(R0, Rh, Qh, Ph, Rl, Ql, Pl, Re, Qe, Pef, Pei,plottype=\"realimag\"):\n",
    "    Zh = CPEfunSeries(Rh, Qh, Ph, frequency)\n",
    "    Zl = CPEfunSeries(Rl, Ql, Pl, frequency)\n",
    "    Ze = CPEfunElec(Re, Qe, Pef, Pei, frequency)\n",
    "    pred = 1./(1./R0+1./Zh+1./Zl)+Ze\n",
    "\n",
    "    fig = plt.figure(figsize = (14, 4))\n",
    "#     fig.patch.set_facecolor('black')\n",
    "    ax = plt.subplot(121)\n",
    "    ax1 = plt.subplot(122)\n",
    "    ax.patch.set_facecolor('black')\n",
    "    ax1.patch.set_facecolor('black')\n",
    "    if plottype==\"realimag\":\n",
    "        ax.loglog(frequency, obs.real, 'lime', lw=3, marker=\".\", ms=8)\n",
    "        ax1.loglog(frequency, abs(obs.imag), 'lime', lw=3, marker=\".\", ms=8)\n",
    "        ax.loglog(frequency, pred.real, 'deepskyblue', lw=2)\n",
    "        ax1.loglog(frequency, abs(pred.imag), 'deepskyblue', lw=2)\n",
    "        ax.set_ylabel(\"Real (Ohm)\")\n",
    "        ax.set_xlabel(\"Frequency (Hz)\")\n",
    "        ax1.set_ylabel(\"Imaginary (Ohm)\")\n",
    "        ax1.set_xlabel(\"Frequency (Hz)\")\n",
    "        \n",
    "        ax.invert_xaxis()\n",
    "        ax1.invert_xaxis()\n",
    "        ax.set_ylim(obs.real.min(), obs.real.max())\n",
    "        ax1.set_ylim(abs(obs.imag).min(), abs(obs.imag).max())        \n",
    "    elif plottype==\"ampphase\":\n",
    "        amp = np.sqrt(obs.real**2+obs.imag**2)\n",
    "        phase = np.arctan2(obs.real, obs.imag)\n",
    "        ax.loglog(frequency, amp, 'lime', lw=3, marker=\".\", ms=8)\n",
    "        ax1.loglog(frequency, phase, 'lime', lw=3, marker=\".\", ms=8)\n",
    "        ax.loglog(frequency, abs(pred), 'deepskyblue', lw=2)\n",
    "        ax1.loglog(frequency, np.arctan2(pred.real, pred.imag), 'deepskyblue', lw=2)\n",
    "        ax.invert_xaxis()\n",
    "        ax1.invert_xaxis()\n",
    "        ax.set_ylim(amp.min(), amp.max())\n",
    "        ax1.set_ylim(phase.min(), phase.max())       \n",
    "        ax.set_ylabel(\"Amplitude (Ohm)\")\n",
    "        ax.set_xlabel(\"Frequency (Hz)\")\n",
    "        ax1.set_ylabel(\"Phase (rad)\")\n",
    "        ax1.set_xlabel(\"Frequency (Hz)\")\n",
    "        \n",
    "    elif plottype==\"zarc\":        \n",
    "        amp = np.sqrt(obs.real**2+obs.imag**2)\n",
    "        amp_pred = np.sqrt(pred.real**2+pred.imag**2)\n",
    "        ax.plot(obs.real, -obs.imag, 'lime', lw=3, marker=\".\", ms=8)\n",
    "        ax.plot(pred.real, -pred.imag, 'deepskyblue', lw=2)\n",
    "        ax1.semilogx(frequency[1:]*0.5+frequency[0:-1]*0.5, diff(np.log10(amp))/diff(np.log10(frequency)), 'lime', lw=3, marker=\".\", ms=8)\n",
    "        ax1.semilogx(frequency[1:]*0.5+frequency[0:-1]*0.5, diff(np.log10(amp_pred))/diff(np.log10(frequency)), 'deepskyblue', lw=2)\n",
    "        ax.set_xlim(obs.real.min(), obs.real.max())\n",
    "        ax.set_ylim((-obs.imag).min(), (-obs.imag).max())\n",
    "        ax.set_xlabel(\"Real (Ohm)\")\n",
    "        ax.set_ylabel(\"- Imaginary (Ohm)\")\n",
    "        ax1.set_xlabel(\"Frequency\")\n",
    "        ax1.set_ylabel(\"dlog(Amp)/dlog(Freq)\")\n",
    "        \n",
    "        \n",
    "    ax.grid(True)\n",
    "    ax.yaxis.grid(True, which='minor')\n",
    "    plt.tick_params(axis='y', which='minor')\n",
    "    ax1.grid(True)\n",
    "    ax1.yaxis.grid(True, which='minor')\n",
    "    plt.tick_params(axis='y', which='minor')\n",
    "#     ax.yaxis.set_minor_formatter(FormatStrFormatter(\"%.1f\"))\n",
    "#     ax1.yaxis.set_minor_formatter(FormatStrFormatter(\"%.1f\"))\n",
    "    \n",
    "    leg = ax1.legend((\"Observed\", \"Predicted\"), fontsize = 12, bbox_to_anchor = (1.4, 1))\n",
    "    for text in leg.get_texts():\n",
    "        plt.setp(text, color = 'k')\n",
    "    plt.show()\n",
    "    return True"
   ]
  },
  {
   "cell_type": "code",
   "execution_count": 474,
   "metadata": {
    "collapsed": false
   },
   "outputs": [],
   "source": [
    "from matplotlib.ticker import FormatStrFormatter\n",
    "# ax.yaxis.set_minor_formatter(FormatStrFormatter(\"%.1f\"))"
   ]
  },
  {
   "cell_type": "code",
   "execution_count": 475,
   "metadata": {
    "collapsed": false
   },
   "outputs": [
    {
     "data": {
      "text/plain": [
       "array([  8.15478650e+05,   5.14532250e+05,   3.24647900e+05,\n",
       "         2.04838950e+05,   1.29244650e+05,   8.15478650e+04,\n",
       "         5.14532250e+04,   3.24647900e+04,   2.04838950e+04,\n",
       "         1.29244650e+04,   8.15478650e+03,   5.14532250e+03,\n",
       "         3.24647900e+03,   2.04838950e+03,   1.29244650e+03,\n",
       "         8.15478650e+02,   5.14532250e+02,   3.24647900e+02,\n",
       "         2.04838950e+02,   1.29244650e+02,   8.15478650e+01,\n",
       "         5.14532250e+01,   3.24647900e+01,   2.04838950e+01,\n",
       "         1.29244650e+01,   8.15478500e+00,   5.14532000e+00,\n",
       "         3.24648000e+00,   2.04839000e+00,   1.29244500e+00,\n",
       "         8.15480000e-01,   5.14535000e-01,   3.24650000e-01,\n",
       "         2.04840000e-01,   1.29245000e-01,   8.15500000e-02,\n",
       "         5.14550000e-02,   3.24650000e-02])"
      ]
     },
     "execution_count": 475,
     "metadata": {},
     "output_type": "execute_result"
    }
   ],
   "source": [
    "frequency[1:]*0.5+frequency[0:-1]*0.5"
   ]
  },
  {
   "cell_type": "code",
   "execution_count": 476,
   "metadata": {
    "collapsed": false
   },
   "outputs": [],
   "source": [
    "# log Freq, d(log magnitude)/d(log Freq)"
   ]
  },
  {
   "cell_type": "code",
   "execution_count": 477,
   "metadata": {
    "collapsed": false
   },
   "outputs": [],
   "source": [
    "import matplotlib\n",
    "matplotlib.rcParams.update({'font.size': 14})\n",
    "matplotlib.rcParams.update({'grid.color': 'white', 'grid.linewidth':1})"
   ]
  },
  {
   "cell_type": "code",
   "execution_count": 478,
   "metadata": {
    "collapsed": true
   },
   "outputs": [],
   "source": [
    "from IPython.html.widgets import interact, FloatText, FloatSlider, ToggleButtons"
   ]
  },
  {
   "cell_type": "code",
   "execution_count": 479,
   "metadata": {
    "collapsed": false
   },
   "outputs": [
    {
     "data": {
      "image/png": "[encoded data removed]",
      "text/plain": [
       "<matplotlib.figure.Figure at 0x10c71d4e0>"
      ]
     },
     "metadata": {},
     "output_type": "display_data"
    }
   ],
   "source": [
    "interact(fitfun, R0=FloatText(value=R0),\\\n",
    "    Rh=FloatSlider(min = 1, max = 10000., step = 100, value=pRh), \n",
    "    Qh=FloatText(value=pQh), \n",
    "    Ph=FloatSlider(min = 0.1, max = 1., step = 0.02, value=Ph),\n",
    "    Rl=FloatSlider(min = 1, max = 10000., step = 100, value=Rl), \n",
    "    Ql=FloatText(value=pQl), \n",
    "    Pl=FloatSlider(min = 0.1, max = 1., step = 0.02, value=Pl),\n",
    "    Re=FloatSlider(min = 1, max = 10000., step = 100, value=Re), \n",
    "    Qe=FloatText(value=Qe), \n",
    "    Pef=FloatSlider(min = 0.1, max = 1., step = 0.02, value=Pef), \n",
    "    Pei=FloatSlider(min = 0.1, max = 1., step = 0.02, value=Pei),\n",
    "    plottype=ToggleButtons(options=['realimag','ampphase', 'zarc'])) "
   ]
  },
  {
   "cell_type": "code",
   "execution_count": null,
   "metadata": {
    "collapsed": true
   },
   "outputs": [],
   "source": []
  },
  {
   "cell_type": "code",
   "execution_count": null,
   "metadata": {
    "collapsed": true
   },
   "outputs": [],
   "source": []
  }
 ],
 "metadata": {
  "kernelspec": {
   "display_name": "Python 3",
   "language": "python",
   "name": "python3"
  },
  "language_info": {
   "codemirror_mode": {
    "name": "ipython",
    "version": 3
   },
   "file_extension": ".py",
   "mimetype": "text/x-python",
   "name": "python",
   "nbconvert_exporter": "python",
   "pygments_lexer": "ipython3",
   "version": "3.4.3"
  }
 },
 "nbformat": 4,
 "nbformat_minor": 0
}
