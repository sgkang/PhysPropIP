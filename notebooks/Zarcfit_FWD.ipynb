{
 "cells": [
  {
   "cell_type": "code",
   "execution_count": 1,
   "metadata": {
    "collapsed": false
   },
   "outputs": [],
   "source": [
    "import pandas as pd"
   ]
  },
  {
   "cell_type": "code",
<<<<<<< HEAD
   "execution_count": 1,
   "metadata": {
    "collapsed": false
   },
   "outputs": [
    {
     "name": "stdout",
     "output_type": "stream",
     "text": [
      " Volume in drive I is MSA20-2\n",
      " Volume Serial Number is EE53-3DBA\n",
      "\n",
      " Directory of I:\\Labwork\\ElectricalResistivity\\Programs\\PhysPropIP\\notebooks\n",
      "\n",
      "2015-11-04  11:28    <DIR>          .\n",
      "2015-11-04  11:28    <DIR>          ..\n",
      "2015-11-04  11:16    <DIR>          .ipynb_checkpoints\n",
      "2015-11-03  16:05    <DIR>          img\n",
      "2015-11-03  16:05         1,715,361 CircuitModel.ipynb\n",
      "2015-11-03  16:05           312,241 CircuitModel_modified.ipynb\n",
      "2015-11-03  16:05           112,261 RealData.ipynb\n",
      "2015-11-04  11:28               615 Untitled.ipynb\n",
      "2015-11-03  17:49            70,840 Zarcfit_FWD.ipynb\n",
      "               5 File(s)      2,211,318 bytes\n",
      "               4 Dir(s)  214,771,392,512 bytes free\n"
     ]
    }
   ],
   "source": [
    "!dir"
=======
   "execution_count": 2,
   "metadata": {
    "collapsed": true
   },
   "outputs": [],
   "source": [
    "from Zarc import *"
>>>>>>> fa90e70061fd6dea3bf2622c157d90839bc97960
   ]
  },
  {
   "cell_type": "code",
<<<<<<< HEAD
   "execution_count": 7,
=======
   "execution_count": 3,
>>>>>>> fa90e70061fd6dea3bf2622c157d90839bc97960
   "metadata": {
    "collapsed": false
   },
   "outputs": [
    {
     "name": "stdout",
     "output_type": "stream",
     "text": [
      "Populating the interactive namespace from numpy and matplotlib\n"
     ]
    }
   ],
   "source": [
    "%pylab inline"
   ]
  },
  {
   "cell_type": "code",
   "execution_count": 52,
   "metadata": {
    "collapsed": false
   },
   "outputs": [],
   "source": [
    "path = \"..\\data\\HVC 2014-10Grenon\\\\\""
   ]
  },
  {
   "cell_type": "code",
   "execution_count": 53,
   "metadata": {
    "collapsed": false
   },
   "outputs": [],
   "source": [
    "# fnameobs = \"BC13876B 2014-10-28.z\"\n",
    "# fnamepred = \"HVC 2014-10-27simplified.csv\"\n",
    "# temp = np.loadtxt(pathforPK, skiprows=11, delimiter=\",\")\n",
    "# frequency = temp[:,0].copy()\n",
    "# data = pd.read_csv(path+ fnamepred)\n",
    "# data_active = data.loc[data['file'] == fnameobs]\n",
    "# # data_active = data.loc[(data.notnull()['Rinf']==True)][[\"file\", \"Rinf\",\"Ro\",\"Rh\",\"Qh\",\"Ph\", \"Fh\",\"pRh\", \"pQh\",\"Rm\",\"Qm\",\"Pm\", \"pRm\", \"pQm\",\"Rl\",\"Ql\",\"Pl\", \"Fl\", \"pRl\", \"pQl\",\"Re\",\"Qe\",\"Pe-f\",\"Pe-i\"]]"
   ]
  },
  {
   "cell_type": "code",
   "execution_count": null,
   "metadata": {
    "collapsed": true
   },
   "outputs": [],
   "source": [
    "data = readdata(path, fname)"
   ]
  },
  {
   "cell_type": "code",
   "execution_count": 8,
   "metadata": {
    "collapsed": true
   },
   "outputs": [],
   "source": [
    "labid = 'BC13876B 2014-10-28.z'"
   ]
  },
  {
   "cell_type": "code",
   "execution_count": 9,
   "metadata": {
    "collapsed": true
   },
   "outputs": [],
   "source": [
    "qfun = lambda r, f, p: 1./(r*(np.pi*2*f)**p)\n",
    "f0peak = lambda R, Q, P: (R*Q)**(-1./P)/np.pi/2.\n",
    "taupeak = lambda R, Q, P: (R*Q)**(1./P)\n",
    "rhoinf = lambda rhom, rhol, rho0: 1./(1./rho0+1./rhom+1./rhol)\n",
    "charg = lambda rhoinf, rho0: (rho0-rhoinf) / rhoinf"
   ]
  },
  {
   "cell_type": "code",
   "execution_count": 10,
   "metadata": {
    "collapsed": false
   },
   "outputs": [
    {
     "name": "stderr",
     "output_type": "stream",
     "text": [
      "C:\\progra~1\\Anaconda3\\lib\\site-packages\\pandas\\core\\frame.py:1825: UserWarning: Boolean Series key will be reindexed to match DataFrame index.\n",
      "  \"DataFrame index.\", UserWarning)\n"
     ]
    }
   ],
   "source": [
    "# R0 = data_active[data['file'] == labid]['Ro'].values[0]\n",
    "\n",
    "Rinf = data_active[data['file'] == labid]['Rinf'].values[0]\n",
    "Rh = data_active[data['file'] == labid]['Rh'].values[0]\n",
    "# Qh = data_active[data['file'] == labid]['Qh'].values[0]\n",
    "# pRh = data_active[data['file'] == labid]['pRh'].values[0]\n",
    "# pQh = data_active[data['file'] == labid]['pQh'].values[0]\n",
    "Ph = data_active[data['file'] == labid]['Ph'].values[0]\n",
    "Fh = data_active[data['file'] == labid]['Fh'].values[0]\n",
    "Qh = qfun(Rh, Fh, Ph)\n",
    "Pm = data_active[data['file'] == labid]['Pm'].values[0]\n",
    "Fm = data_active[data['file'] == labid]['Fm'].values[0]\n",
    "Rm = data_active[data['file'] == labid]['Rm'].values[0]\n",
    "Qm = qfun(Rm, Fm, Pm)\n",
    "\n",
    "Rl = data_active[data['file'] == labid]['Rl'].values[0]\n",
    "Pl = data_active[data['file'] == labid]['Pl'].values[0]\n",
    "Fl = data_active[data['file'] == labid]['Fl'].values[0]\n",
    "Ql = qfun(Rl, Fl, Pl)\n",
    "\n",
    "# Ql = data_active[data['file'] == labid]['Ql'].values[0]\n",
    "# pRl = data_active[data['file'] == labid]['pRl'].values[0]\n",
    "# pQl = data_active[data['file'] == labid]['pQl'].values[0]\n",
    "\n",
    "Re = data_active[data['file'] == labid]['Re'].values[0]\n",
    "Qe = data_active[data['file'] == labid]['Qe'].values[0]\n",
    "Pef = data_active[data['file'] == labid]['Pe-f'].values[0]\n",
    "Pei = data_active[data['file'] == labid]['Pe-i'].values[0]\n",
    "\n",
    "R0 = Rinf + Rh + Rm + Rl"
   ]
  },
  {
   "cell_type": "code",
   "execution_count": 11,
   "metadata": {
    "collapsed": false
   },
   "outputs": [],
   "source": [
    "pred = Zseries(Rinf, Rh, Qh, Ph, Rm, Qm, Pm, Rl, Ql, Pl, Re, Qe, Pei, Pef, frequency)"
   ]
  },
  {
   "cell_type": "code",
   "execution_count": 26,
   "metadata": {
    "collapsed": true
   },
   "outputs": [],
   "source": [
    "phase = np.arctan2(pred.real, pred.imag)*180./np.pi"
   ]
  },
  {
   "cell_type": "code",
   "execution_count": 38,
   "metadata": {
    "collapsed": true
   },
   "outputs": [],
   "source": [
    "phase2 = np.log(pred).imag*180./np.pi"
   ]
  },
  {
   "cell_type": "code",
   "execution_count": 39,
   "metadata": {
    "collapsed": false
   },
   "outputs": [
    {
     "data": {
      "text/plain": [
       "array([  6594.17147955,   8217.80756272,   9735.97212907,  11018.68220709,\n",
       "        12020.13726008,  12763.13195819,  13301.9401261 ,  13694.03697174,\n",
       "        13987.56790761,  14219.08816252,  14415.48105077,  14596.67820515,\n",
       "        14777.89095721,  14971.02404288,  15185.26387485,  15426.93609537,\n",
       "        15698.81946077,  15999.2934158 ,  16321.90769142,  16655.98112853,\n",
       "        16988.47911004,  17306.73288828,  17601.04957335,  17866.33243989,\n",
       "        18102.41622765,  18313.4276336 ,  18506.65429022,  18691.16090926,\n",
       "        18875.97411681,  19067.47254209,  19266.16124573,  19464.47655176,\n",
       "        19648.03978695,  19800.84338395,  19911.04663996,  19973.41835845,\n",
       "        19987.88328974,  19956.50157851,  19881.0060527 ,  19761.36676007])"
      ]
     },
     "execution_count": 39,
     "metadata": {},
     "output_type": "execute_result"
    }
   ],
   "source": [
    "pred.real"
   ]
  },
  {
   "cell_type": "code",
   "execution_count": 40,
   "metadata": {
    "collapsed": false
   },
   "outputs": [
    {
     "data": {
      "text/plain": [
       "array([-34.13533871, -28.3933095 , -22.90516953, -18.01514624,\n",
       "       -13.91373303, -10.63935371,  -8.12819438,  -6.26912886,\n",
       "        -4.94203171,  -4.03756556,  -3.46400881,  -3.14688957,\n",
       "        -3.02526054,  -3.04687536,  -3.16370421,  -3.32897543,\n",
       "        -3.49682835,  -3.62517196,  -3.68113826,  -3.64693493,\n",
       "        -3.52309894,  -3.32714579,  -3.08800343,  -2.83861807,\n",
       "        -2.60933246,  -2.4232935 ,  -2.29358717,  -2.22109108,\n",
       "        -2.19264112,  -2.18094216,  -2.149517  ,  -2.06477272,\n",
       "        -1.91074336,  -1.69600525,  -1.44695581,  -1.19372504,\n",
       "        -0.95935132,  -0.75619698,  -0.58810433,  -0.45327963])"
      ]
     },
     "execution_count": 40,
     "metadata": {},
     "output_type": "execute_result"
    }
   ],
   "source": [
    "phase2"
   ]
  },
  {
   "cell_type": "code",
   "execution_count": 41,
   "metadata": {
    "collapsed": false
   },
   "outputs": [
    {
     "data": {
      "text/plain": [
       "array([ 4470.52370907,  4442.11190315,  4113.67085745,  3583.40747292,\n",
       "        2977.74093141,  2397.6297986 ,  1899.8251632 ,  1504.36788004,\n",
       "        1209.49481038,  1003.66416067,   872.59976731,   802.50899743,\n",
       "         781.00976531,   796.88052848,   839.33875132,   897.33936406,\n",
       "         959.30866366,  1013.64726633,  1050.09490429,  1061.6042915 ,\n",
       "        1045.93463365,  1006.12706918,   949.54270048,   885.8807701 ,\n",
       "         824.9805748 ,   775.01853331,   741.22933   ,   724.93260677,\n",
       "         722.71384604,   726.14686903,   723.13146741,   701.74674889,\n",
       "         655.4808309 ,   586.29355502,   502.94334528,   416.19505292,\n",
       "         334.70518304,   263.40373954,   204.0729073 ,   156.33982157])"
      ]
     },
     "execution_count": 41,
     "metadata": {},
     "output_type": "execute_result"
    }
   ],
   "source": [
    "-pred.imag"
   ]
  },
  {
   "cell_type": "code",
   "execution_count": 42,
   "metadata": {
    "collapsed": false
   },
   "outputs": [
    {
     "data": {
      "text/plain": [
       "array([ 34.13533871,  28.3933095 ,  22.90516953,  18.01514624,\n",
       "        13.91373303,  10.63935371,   8.12819438,   6.26912886,\n",
       "         4.94203171,   4.03756556,   3.46400881,   3.14688957,\n",
       "         3.02526054,   3.04687536,   3.16370421,   3.32897543,\n",
       "         3.49682835,   3.62517196,   3.68113826,   3.64693493,\n",
       "         3.52309894,   3.32714579,   3.08800343,   2.83861807,\n",
       "         2.60933246,   2.4232935 ,   2.29358717,   2.22109108,\n",
       "         2.19264112,   2.18094216,   2.149517  ,   2.06477272,\n",
       "         1.91074336,   1.69600525,   1.44695581,   1.19372504,\n",
       "         0.95935132,   0.75619698,   0.58810433,   0.45327963])"
      ]
     },
     "execution_count": 42,
     "metadata": {},
     "output_type": "execute_result"
    }
   ],
   "source": [
    "phase-90"
   ]
  },
  {
   "cell_type": "code",
   "execution_count": 43,
   "metadata": {
    "collapsed": false
   },
   "outputs": [
    {
     "data": {
      "text/plain": [
       "[<matplotlib.lines.Line2D at 0xb9f3978>]"
      ]
     },
     "execution_count": 43,
     "metadata": {},
     "output_type": "execute_result"
    },
    {
     "data": {
      "image/png": "iVBORw0KGgoAAAANSUhEUgAAAYgAAAEACAYAAACpoOGTAAAABHNCSVQICAgIfAhkiAAAAAlwSFlz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\nERFJSwlCRETSUoIQEZG0lCBERCSt/w89z9BS7OuiggAAAABJRU5ErkJggg==\n",
      "text/plain": [
       "<matplotlib.figure.Figure at 0xa86a668>"
      ]
     },
     "metadata": {},
     "output_type": "display_data"
    }
   ],
   "source": [
    "plt.plot(pred.real, -pred.imag)"
   ]
  },
  {
   "cell_type": "code",
   "execution_count": 44,
   "metadata": {
    "collapsed": false
   },
   "outputs": [
    {
     "data": {
      "text/plain": [
       "[<matplotlib.lines.Line2D at 0x9f74cf8>]"
      ]
     },
     "execution_count": 44,
     "metadata": {},
     "output_type": "execute_result"
    },
    {
     "data": {
      "image/png": "iVBORw0KGgoAAAANSUhEUgAAAX0AAAEHCAYAAABCwJb2AAAABHNCSVQICAgIfAhkiAAAAAlwSFlz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\nAElFTkSuQmCC\n",
      "text/plain": [
       "<matplotlib.figure.Figure at 0xb925898>"
      ]
     },
     "metadata": {},
     "output_type": "display_data"
    }
   ],
   "source": [
    "plt.loglog(frequency, abs(pred))"
   ]
  },
  {
   "cell_type": "code",
   "execution_count": 45,
   "metadata": {
    "collapsed": false
   },
   "outputs": [
    {
     "data": {
      "text/plain": [
       "[<matplotlib.lines.Line2D at 0xa864f98>]"
      ]
     },
     "execution_count": 45,
     "metadata": {},
     "output_type": "execute_result"
    },
    {
     "data": {
      "image/png": "iVBORw0KGgoAAAANSUhEUgAAAX8AAAEHCAYAAABGNUbLAAAABHNCSVQICAgIfAhkiAAAAAlwSFlz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\nAAAASUVORK5CYII=\n",
      "text/plain": [
       "<matplotlib.figure.Figure at 0xb995470>"
      ]
     },
     "metadata": {},
     "output_type": "display_data"
    }
   ],
   "source": [
    "plt.loglog(frequency, -phase2)"
   ]
  },
  {
   "cell_type": "code",
   "execution_count": 15,
   "metadata": {
    "collapsed": false
   },
   "outputs": [
    {
     "data": {
      "text/plain": [
       "[<matplotlib.lines.Line2D at 0x9ea54e0>]"
      ]
     },
     "execution_count": 15,
     "metadata": {},
     "output_type": "execute_result"
    },
    {
     "data": {
      "image/png": "iVBORw0KGgoAAAANSUhEUgAAAX0AAAEHCAYAAABCwJb2AAAABHNCSVQICAgIfAhkiAAAAAlwSFlz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\nAAAAAElFTkSuQmCC\n",
      "text/plain": [
       "<matplotlib.figure.Figure at 0x9e39550>"
      ]
     },
     "metadata": {},
     "output_type": "display_data"
    }
   ],
   "source": [
    "plt.loglog(frequency, pred.real)"
   ]
  },
  {
   "cell_type": "code",
   "execution_count": 16,
   "metadata": {
    "collapsed": false
   },
   "outputs": [
    {
     "data": {
      "text/plain": [
       "[<matplotlib.lines.Line2D at 0xa435588>]"
      ]
     },
     "execution_count": 16,
     "metadata": {},
     "output_type": "execute_result"
    },
    {
     "data": {
      "image/png": "iVBORw0KGgoAAAANSUhEUgAAAX0AAAEHCAYAAABCwJb2AAAABHNCSVQICAgIfAhkiAAAAAlwSFlz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\n",
      "text/plain": [
       "<matplotlib.figure.Figure at 0xa77bf28>"
      ]
     },
     "metadata": {},
     "output_type": "display_data"
    }
   ],
   "source": [
    "plt.loglog(frequency, -pred.imag)"
   ]
  },
  {
   "cell_type": "code",
   "execution_count": 74,
   "metadata": {
    "collapsed": false
   },
   "outputs": [],
   "source": [
    "# print(R0)\n",
    "# print(Rinf)\n",
    "# print(Rh)\n",
    "# print(Rm)\n",
    "# print(Rl)\n",
    "# print(Qh)\n",
    "# print(Ql)\n",
    "# print(Qm)"
   ]
  },
  {
   "cell_type": "code",
   "execution_count": 75,
   "metadata": {
    "collapsed": false
   },
   "outputs": [],
   "source": [
    "# R0 = data_active[data['0LabID (PCG)'] == labid]['Ro'].values[0]\n",
    "# Rinf = data_active[data['0LabID (PCG)'] == labid]['Rinf'].values[0]\n",
    "# Rh = data_active[data['0LabID (PCG)'] == labid]['Rh'].values[0]\n",
    "# Qh = data_active[data['0LabID (PCG)'] == labid]['Qh'].values[0]\n",
    "# pRh = data_active[data['0LabID (PCG)'] == labid]['pRh'].values[0]\n",
    "# pQh = data_active[data['0LabID (PCG)'] == labid]['pQh'].values[0]\n",
    "# Ph = data_active[data['0LabID (PCG)'] == labid]['Ph'].values[0]\n",
    "# Fh = data_active[data['0LabID (PCG)'] == labid]['Fh'].values[0]\n",
    "# Rl = data_active[data['0LabID (PCG)'] == labid]['Rl'].values[0]\n",
    "# Ql = data_active[data['0LabID (PCG)'] == labid]['Ql'].values[0]\n",
    "# pRl = data_active[data['0LabID (PCG)'] == labid]['pRl'].values[0]\n",
    "# pQl = data_active[data['0LabID (PCG)'] == labid]['pQl'].values[0]\n",
    "# Pl = data_active[data['0LabID (PCG)'] == labid]['Pl'].values[0]\n",
    "# Re = data_active[data['0LabID (PCG)'] == labid]['Re'].values[0]\n",
    "# Qe = data_active[data['0LabID (PCG)'] == labid]['Qe'].values[0]\n",
    "# Pef = data_active[data['0LabID (PCG)'] == labid]['Pe-f'].values[0]\n",
    "# Pei = data_active[data['0LabID (PCG)'] == labid]['Pe-i'].values[0]"
   ]
  },
  {
   "cell_type": "code",
   "execution_count": 78,
   "metadata": {
    "collapsed": true
   },
   "outputs": [],
   "source": [
    "obs = temp[:,4]+1j*temp[:,5]"
   ]
  },
  {
   "cell_type": "code",
   "execution_count": 79,
   "metadata": {
    "collapsed": false
   },
   "outputs": [],
   "source": [
    "def fitfun(R0, Rh, Qh, Ph, Rl, Ql, Pl, Re, Qe, Pef, Pei,plottype=\"realimag\"):\n",
    "    Zh = CPEfunSeries(Rh, Qh, Ph, frequency)\n",
    "    Zl = CPEfunSeries(Rl, Ql, Pl, frequency)\n",
    "    Ze = CPEfunElec(Re, Qe, Pef, Pei, frequency)\n",
    "    pred = 1./(1./R0+1./Zh+1./Zl)+Ze\n",
    "\n",
    "    fig = plt.figure(figsize = (14, 4))\n",
    "#     fig.patch.set_facecolor('black')\n",
    "    ax = plt.subplot(121)\n",
    "    ax1 = plt.subplot(122)\n",
    "    ax.patch.set_facecolor('black')\n",
    "    ax1.patch.set_facecolor('black')\n",
    "    if plottype==\"realimag\":\n",
    "        ax.loglog(frequency, obs.real, 'lime', lw=3, marker=\".\", ms=8)\n",
    "        ax1.loglog(frequency, abs(obs.imag), 'lime', lw=3, marker=\".\", ms=8)\n",
    "        ax.loglog(frequency, pred.real, 'deepskyblue', lw=2)\n",
    "        ax1.loglog(frequency, abs(pred.imag), 'deepskyblue', lw=2)\n",
    "        ax.set_ylabel(\"Real (Ohm)\")\n",
    "        ax.set_xlabel(\"Frequency (Hz)\")\n",
    "        ax1.set_ylabel(\"Imaginary (Ohm)\")\n",
    "        ax1.set_xlabel(\"Frequency (Hz)\")\n",
    "        \n",
    "        ax.invert_xaxis()\n",
    "        ax1.invert_xaxis()\n",
    "        ax.set_ylim(obs.real.min(), obs.real.max())\n",
    "        ax1.set_ylim(abs(obs.imag).min(), abs(obs.imag).max())        \n",
    "    elif plottype==\"ampphase\":\n",
    "        amp = np.sqrt(obs.real**2+obs.imag**2)\n",
    "        phase = np.arctan2(obs.real, obs.imag)\n",
    "        ax.loglog(frequency, amp, 'lime', lw=3, marker=\".\", ms=8)\n",
    "        ax1.loglog(frequency, phase, 'lime', lw=3, marker=\".\", ms=8)\n",
    "        ax.loglog(frequency, abs(pred), 'deepskyblue', lw=2)\n",
    "        ax1.loglog(frequency, np.arctan2(pred.real, pred.imag), 'deepskyblue', lw=2)\n",
    "        ax.invert_xaxis()\n",
    "        ax1.invert_xaxis()\n",
    "        ax.set_ylim(amp.min(), amp.max())\n",
    "        ax1.set_ylim(phase.min(), phase.max())       \n",
    "        ax.set_ylabel(\"Amplitude (Ohm)\")\n",
    "        ax.set_xlabel(\"Frequency (Hz)\")\n",
    "        ax1.set_ylabel(\"Phase (rad)\")\n",
    "        ax1.set_xlabel(\"Frequency (Hz)\")\n",
    "        \n",
    "    elif plottype==\"zarc\":        \n",
    "        amp = np.sqrt(obs.real**2+obs.imag**2)\n",
    "        amp_pred = np.sqrt(pred.real**2+pred.imag**2)\n",
    "        ax.plot(obs.real, -obs.imag, 'lime', lw=3, marker=\".\", ms=8)\n",
    "        ax.plot(pred.real, -pred.imag, 'deepskyblue', lw=2)\n",
    "        ax1.semilogx(frequency[1:]*0.5+frequency[0:-1]*0.5, diff(np.log10(amp))/diff(np.log10(frequency)), 'lime', lw=3, marker=\".\", ms=8)\n",
    "        ax1.semilogx(frequency[1:]*0.5+frequency[0:-1]*0.5, diff(np.log10(amp_pred))/diff(np.log10(frequency)), 'deepskyblue', lw=2)\n",
    "        ax.set_xlim(obs.real.min(), obs.real.max())\n",
    "        ax.set_ylim((-obs.imag).min(), (-obs.imag).max())\n",
    "        ax.set_xlabel(\"Real (Ohm)\")\n",
    "        ax.set_ylabel(\"- Imaginary (Ohm)\")\n",
    "        ax1.set_xlabel(\"Frequency\")\n",
    "        ax1.set_ylabel(\"dlog(Amp)/dlog(Freq)\")\n",
    "        \n",
    "        \n",
    "    ax.grid(True)\n",
    "    ax.yaxis.grid(True, which='minor')\n",
    "    plt.tick_params(axis='y', which='minor')\n",
    "    ax1.grid(True)\n",
    "    ax1.yaxis.grid(True, which='minor')\n",
    "    plt.tick_params(axis='y', which='minor')\n",
    "#     ax.yaxis.set_minor_formatter(FormatStrFormatter(\"%.1f\"))\n",
    "#     ax1.yaxis.set_minor_formatter(FormatStrFormatter(\"%.1f\"))\n",
    "    \n",
    "    leg = ax1.legend((\"Observed\", \"Predicted\"), fontsize = 12, bbox_to_anchor = (1.4, 1))\n",
    "    for text in leg.get_texts():\n",
    "        plt.setp(text, color = 'k')\n",
    "    plt.show()\n",
    "    return True"
   ]
  },
  {
   "cell_type": "code",
   "execution_count": 80,
   "metadata": {
    "collapsed": false
   },
   "outputs": [],
   "source": [
    "from matplotlib.ticker import FormatStrFormatter\n",
    "# ax.yaxis.set_minor_formatter(FormatStrFormatter(\"%.1f\"))"
   ]
  },
  {
   "cell_type": "code",
   "execution_count": 81,
   "metadata": {
    "collapsed": false
   },
   "outputs": [
    {
     "data": {
      "text/plain": [
       "array([  8.15478650e+05,   5.14532250e+05,   3.24647900e+05,\n",
       "         2.04838950e+05,   1.29244650e+05,   8.15478650e+04,\n",
       "         5.14532250e+04,   3.24647900e+04,   2.04838950e+04,\n",
       "         1.29244650e+04,   8.15478650e+03,   5.14532250e+03,\n",
       "         3.24647900e+03,   2.04838950e+03,   1.29244650e+03,\n",
       "         8.15478650e+02,   5.14532250e+02,   3.24647900e+02,\n",
       "         2.04838950e+02,   1.29244650e+02,   8.15478650e+01,\n",
       "         5.14532250e+01,   3.24647900e+01,   2.04838950e+01,\n",
       "         1.29244650e+01,   8.15478500e+00,   5.14532000e+00,\n",
       "         3.24648000e+00,   2.04839000e+00,   1.29244500e+00,\n",
       "         8.15480000e-01,   5.14535000e-01,   3.24650000e-01,\n",
       "         2.04840000e-01,   1.29245000e-01,   8.15500000e-02,\n",
       "         5.14550000e-02,   3.24650000e-02,   2.04850000e-02])"
      ]
     },
     "execution_count": 81,
     "metadata": {},
     "output_type": "execute_result"
    }
   ],
   "source": [
    "frequency[1:]*0.5+frequency[0:-1]*0.5"
   ]
  },
  {
   "cell_type": "code",
   "execution_count": 82,
   "metadata": {
    "collapsed": false
   },
   "outputs": [],
   "source": [
    "# log Freq, d(log magnitude)/d(log Freq)"
   ]
  },
  {
   "cell_type": "code",
   "execution_count": 83,
   "metadata": {
    "collapsed": false
   },
   "outputs": [],
   "source": [
    "import matplotlib\n",
    "matplotlib.rcParams.update({'font.size': 14})\n",
    "matplotlib.rcParams.update({'grid.color': 'white', 'grid.linewidth':1})"
   ]
  },
  {
   "cell_type": "code",
   "execution_count": 84,
   "metadata": {
    "collapsed": false
   },
   "outputs": [],
   "source": [
    "from IPython.html.widgets import interact, FloatText, FloatSlider, ToggleButtons"
   ]
  },
  {
   "cell_type": "code",
   "execution_count": 85,
   "metadata": {
    "collapsed": false
   },
   "outputs": [
    {
     "ename": "NameError",
     "evalue": "name 'pRh' is not defined",
     "output_type": "error",
     "traceback": [
      "\u001b[1;31m---------------------------------------------------------------------------\u001b[0m",
      "\u001b[1;31mNameError\u001b[0m                                 Traceback (most recent call last)",
      "\u001b[1;32m<ipython-input-85-8e652be1ec0e>\u001b[0m in \u001b[0;36m<module>\u001b[1;34m()\u001b[0m\n\u001b[1;32m----> 1\u001b[1;33m interact(fitfun, R0=FloatText(value=R0),    Rh=FloatSlider(min = 1, max = 10000., step = 100, value=pRh), \n\u001b[0m\u001b[0;32m      2\u001b[0m     \u001b[0mQh\u001b[0m\u001b[1;33m=\u001b[0m\u001b[0mFloatText\u001b[0m\u001b[1;33m(\u001b[0m\u001b[0mvalue\u001b[0m\u001b[1;33m=\u001b[0m\u001b[0mpQh\u001b[0m\u001b[1;33m)\u001b[0m\u001b[1;33m,\u001b[0m\u001b[1;33m\u001b[0m\u001b[0m\n\u001b[0;32m      3\u001b[0m     \u001b[0mPh\u001b[0m\u001b[1;33m=\u001b[0m\u001b[0mFloatSlider\u001b[0m\u001b[1;33m(\u001b[0m\u001b[0mmin\u001b[0m \u001b[1;33m=\u001b[0m \u001b[1;36m0.1\u001b[0m\u001b[1;33m,\u001b[0m \u001b[0mmax\u001b[0m \u001b[1;33m=\u001b[0m \u001b[1;36m1.\u001b[0m\u001b[1;33m,\u001b[0m \u001b[0mstep\u001b[0m \u001b[1;33m=\u001b[0m \u001b[1;36m0.02\u001b[0m\u001b[1;33m,\u001b[0m \u001b[0mvalue\u001b[0m\u001b[1;33m=\u001b[0m\u001b[0mPh\u001b[0m\u001b[1;33m)\u001b[0m\u001b[1;33m,\u001b[0m\u001b[1;33m\u001b[0m\u001b[0m\n\u001b[0;32m      4\u001b[0m     \u001b[0mRl\u001b[0m\u001b[1;33m=\u001b[0m\u001b[0mFloatSlider\u001b[0m\u001b[1;33m(\u001b[0m\u001b[0mmin\u001b[0m \u001b[1;33m=\u001b[0m \u001b[1;36m1\u001b[0m\u001b[1;33m,\u001b[0m \u001b[0mmax\u001b[0m \u001b[1;33m=\u001b[0m \u001b[1;36m10000.\u001b[0m\u001b[1;33m,\u001b[0m \u001b[0mstep\u001b[0m \u001b[1;33m=\u001b[0m \u001b[1;36m100\u001b[0m\u001b[1;33m,\u001b[0m \u001b[0mvalue\u001b[0m\u001b[1;33m=\u001b[0m\u001b[0mRl\u001b[0m\u001b[1;33m)\u001b[0m\u001b[1;33m,\u001b[0m\u001b[1;33m\u001b[0m\u001b[0m\n\u001b[0;32m      5\u001b[0m     \u001b[0mQl\u001b[0m\u001b[1;33m=\u001b[0m\u001b[0mFloatText\u001b[0m\u001b[1;33m(\u001b[0m\u001b[0mvalue\u001b[0m\u001b[1;33m=\u001b[0m\u001b[0mpQl\u001b[0m\u001b[1;33m)\u001b[0m\u001b[1;33m,\u001b[0m\u001b[1;33m\u001b[0m\u001b[0m\n",
      "\u001b[1;31mNameError\u001b[0m: name 'pRh' is not defined"
     ]
    }
   ],
   "source": [
    "interact(fitfun, R0=FloatText(value=R0),\\\n",
    "    Rh=FloatSlider(min = 1, max = 10000., step = 100, value=pRh), \n",
    "    Qh=FloatText(value=pQh), \n",
    "    Ph=FloatSlider(min = 0.1, max = 1., step = 0.02, value=Ph),\n",
    "    Rl=FloatSlider(min = 1, max = 10000., step = 100, value=Rl), \n",
    "    Ql=FloatText(value=pQl), \n",
    "    Pl=FloatSlider(min = 0.1, max = 1., step = 0.02, value=Pl),\n",
    "    Re=FloatSlider(min = 1, max = 10000., step = 100, value=Re), \n",
    "    Qe=FloatText(value=Qe), \n",
    "    Pef=FloatSlider(min = 0.1, max = 1., step = 0.02, value=Pef), \n",
    "    Pei=FloatSlider(min = 0.1, max = 1., step = 0.02, value=Pei),\n",
    "    plottype=ToggleButtons(options=['realimag','ampphase', 'zarc'])) "
   ]
  },
  {
   "cell_type": "code",
   "execution_count": null,
   "metadata": {
    "collapsed": true
   },
   "outputs": [],
   "source": []
  },
  {
   "cell_type": "code",
   "execution_count": null,
   "metadata": {
    "collapsed": true
   },
   "outputs": [],
   "source": []
  }
 ],
 "metadata": {
  "kernelspec": {
   "display_name": "Python 3",
   "language": "python",
   "name": "python3"
  },
  "language_info": {
   "codemirror_mode": {
    "name": "ipython",
    "version": 3
   },
   "file_extension": ".py",
   "mimetype": "text/x-python",
   "name": "python",
   "nbconvert_exporter": "python",
   "pygments_lexer": "ipython3",
   "version": "3.4.3"
  }
 },
 "nbformat": 4,
 "nbformat_minor": 0
}
