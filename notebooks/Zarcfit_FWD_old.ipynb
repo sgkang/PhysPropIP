{
 "cells": [
  {
   "cell_type": "code",
   "execution_count": 14,
   "metadata": {
    "collapsed": false
   },
   "outputs": [
    {
     "name": "stdout",
     "output_type": "stream",
     "text": [
      "Populating the interactive namespace from numpy and matplotlib\n"
     ]
    }
   ],
   "source": [
    "import pandas as pd\n",
    "%pylab inline"
   ]
  },
  {
   "cell_type": "code",
   "execution_count": 15,
   "metadata": {
    "collapsed": true
   },
   "outputs": [],
   "source": [
    "def CPEfun(Rx, Qx, px, freq):\n",
    "    out = np.zeros_like(freq, dtype=complex128)\n",
    "    out = 1./(1./Rx + Qx*(np.pi*2*freq*1j)**px)\n",
    "    return out\n",
    "\n",
    "def CPEfunElec(Rx, Qx, pex, pix, freq):\n",
    "    out = np.zeros_like(freq, dtype=complex128)\n",
    "    out = 1./(1./Rx + (1j)**pix*Qx*(np.pi*2*freq)**pex)\n",
    "    return out\n",
    "\n",
    "def CPEfunSeries(Rx, Qx, px, freq):\n",
    "    out = np.zeros_like(freq, dtype=complex128)\n",
    "    out = Rx + 1./(Qx*(np.pi*2*freq*1j)**px)\n",
    "    return out"
   ]
  },
  {
   "cell_type": "code",
   "execution_count": 3,
   "metadata": {
    "collapsed": false
   },
   "outputs": [],
   "source": [
    "pathforPK = \"/Users/sgkang/Google Drive/Zarcfit/nt01213a.z\"\n",
    "pathfordata = \"../data/Kimberlite-2015-07-17.xls\"\n",
    "temp = np.loadtxt(pathforPK, skiprows=11, delimiter=\",\")\n",
    "frequency = temp[:,0].copy()\n",
    "data = pd.read_excel(pathfordata)\n",
    "data_active = data.loc[np.logical_and((data['Facies'] == 'XVK')|(data['Facies'] == 'PK')|(data['Facies'] == 'HK')|(data['Facies'] == 'VK'), data.notnull()['Rinf']==True)][[\"Facies\", \"0LabID (PCG)\", \"Peregrine ID\", \"(Latitude)\", \"(Longitude)\", \"Depth (m)\",\"Mag Susc [SI]\",\"Resistivity [Ohm.m]\",\"Geometric Factor [m]\",\"Sat Geometric Dens [g/cc]\",\"Chargeability [ms]\",\"Rinf\",\"Ro\",\"Rh\",\"Qh\",\"Ph\", \"Fh\",\"pRh\", \"pQh\",\"Rm\",\"Qm\",\"Pm\", \"pRm\", \"pQm\",\"Rl\",\"Ql\",\"Pl\", \"Fl\", \"pRl\", \"pQl\",\"Re\",\"Qe\",\"Pe-f\",\"Pe-i\"]]"
   ]
  },
  {
   "cell_type": "code",
   "execution_count": 13,
   "metadata": {
    "collapsed": false
   },
   "outputs": [
    {
     "data": {
      "text/html": [
       "<div>\n",
       "<table border=\"1\" class=\"dataframe\">\n",
       "  <thead>\n",
       "    <tr style=\"text-align: right;\">\n",
       "      <th></th>\n",
       "      <th>Facies</th>\n",
       "      <th>0LabID (PCG)</th>\n",
       "      <th>Peregrine ID</th>\n",
       "      <th>(Latitude)</th>\n",
       "      <th>(Longitude)</th>\n",
       "      <th>Depth (m)</th>\n",
       "      <th>Mag Susc [SI]</th>\n",
       "      <th>Resistivity [Ohm.m]</th>\n",
       "      <th>Geometric Factor [m]</th>\n",
       "      <th>Sat Geometric Dens [g/cc]</th>\n",
       "      <th>...</th>\n",
       "      <th>Rl</th>\n",
       "      <th>Ql</th>\n",
       "      <th>Pl</th>\n",
       "      <th>Fl</th>\n",
       "      <th>pRl</th>\n",
       "      <th>pQl</th>\n",
       "      <th>Re</th>\n",
       "      <th>Qe</th>\n",
       "      <th>Pe-f</th>\n",
       "      <th>Pe-i</th>\n",
       "    </tr>\n",
       "  </thead>\n",
       "  <tbody>\n",
       "    <tr>\n",
       "      <th>7</th>\n",
       "      <td>HK</td>\n",
       "      <td>NT01204</td>\n",
       "      <td>K1P-0535</td>\n",
       "      <td>NaN</td>\n",
       "      <td>NaN</td>\n",
       "      <td>135.1</td>\n",
       "      <td>0.013182</td>\n",
       "      <td>10090.413234</td>\n",
       "      <td>0.022235</td>\n",
       "      <td>2.674294</td>\n",
       "      <td>...</td>\n",
       "      <td>578400</td>\n",
       "      <td>7.246e-07</td>\n",
       "      <td>0.177</td>\n",
       "      <td>21.65</td>\n",
       "      <td>36980</td>\n",
       "      <td>6.445e-07</td>\n",
       "      <td>10000000000</td>\n",
       "      <td>0.0001862</td>\n",
       "      <td>0.4612</td>\n",
       "      <td>0.752</td>\n",
       "    </tr>\n",
       "    <tr>\n",
       "      <th>9</th>\n",
       "      <td>HK</td>\n",
       "      <td>NT01205</td>\n",
       "      <td>K1P-0540</td>\n",
       "      <td>NaN</td>\n",
       "      <td>NaN</td>\n",
       "      <td>163.8</td>\n",
       "      <td>0.006001</td>\n",
       "      <td>2204.463074</td>\n",
       "      <td>0.022346</td>\n",
       "      <td>2.759935</td>\n",
       "      <td>...</td>\n",
       "      <td>47360</td>\n",
       "      <td>8.84e-06</td>\n",
       "      <td>0.1809</td>\n",
       "      <td>19.61</td>\n",
       "      <td>151700</td>\n",
       "      <td>1.59e-06</td>\n",
       "      <td>10000000000</td>\n",
       "      <td>0.007566</td>\n",
       "      <td>0.4576</td>\n",
       "      <td>0.7399</td>\n",
       "    </tr>\n",
       "    <tr>\n",
       "      <th>19</th>\n",
       "      <td>HK</td>\n",
       "      <td>NT01210</td>\n",
       "      <td>K1P-0591</td>\n",
       "      <td>64.326044</td>\n",
       "      <td>-109.812725</td>\n",
       "      <td>122.4</td>\n",
       "      <td>0.001167</td>\n",
       "      <td>47.798493</td>\n",
       "      <td>0.026205</td>\n",
       "      <td>2.385503</td>\n",
       "      <td>...</td>\n",
       "      <td>395</td>\n",
       "      <td>4.273e-05</td>\n",
       "      <td>0.4269</td>\n",
       "      <td>2263</td>\n",
       "      <td>6645</td>\n",
       "      <td>1.992e-06</td>\n",
       "      <td>10000000000</td>\n",
       "      <td>0.001293</td>\n",
       "      <td>0.9516</td>\n",
       "      <td>0.7104</td>\n",
       "    </tr>\n",
       "    <tr>\n",
       "      <th>21</th>\n",
       "      <td>HK</td>\n",
       "      <td>NT01211</td>\n",
       "      <td>K1P-0593</td>\n",
       "      <td>64.326044</td>\n",
       "      <td>-109.812725</td>\n",
       "      <td>135.4</td>\n",
       "      <td>0.004224</td>\n",
       "      <td>17612.473012</td>\n",
       "      <td>0.021637</td>\n",
       "      <td>2.608411</td>\n",
       "      <td>...</td>\n",
       "      <td>216600</td>\n",
       "      <td>5.428e-07</td>\n",
       "      <td>0.2842</td>\n",
       "      <td>296.7</td>\n",
       "      <td>2370000</td>\n",
       "      <td>3.672e-08</td>\n",
       "      <td>10000000000</td>\n",
       "      <td>5.736e-05</td>\n",
       "      <td>0.941</td>\n",
       "      <td>1.935</td>\n",
       "    </tr>\n",
       "    <tr>\n",
       "      <th>23</th>\n",
       "      <td>HK</td>\n",
       "      <td>NT01212</td>\n",
       "      <td>K1P-0595</td>\n",
       "      <td>64.326044</td>\n",
       "      <td>-109.812725</td>\n",
       "      <td>176.6</td>\n",
       "      <td>0.009333</td>\n",
       "      <td>572.919007</td>\n",
       "      <td>0.021410</td>\n",
       "      <td>2.644475</td>\n",
       "      <td>...</td>\n",
       "      <td>7429</td>\n",
       "      <td>0.0001171</td>\n",
       "      <td>0.1597</td>\n",
       "      <td>0.3807</td>\n",
       "      <td>91680</td>\n",
       "      <td>7.145e-06</td>\n",
       "      <td>10000000000</td>\n",
       "      <td>0.005917</td>\n",
       "      <td>0.5388</td>\n",
       "      <td>-0.1475</td>\n",
       "    </tr>\n",
       "  </tbody>\n",
       "</table>\n",
       "<p>5 rows × 34 columns</p>\n",
       "</div>"
      ],
      "text/plain": [
       "   Facies 0LabID (PCG) Peregrine ID  (Latitude)  (Longitude)  Depth (m)  \\\n",
       "7      HK      NT01204     K1P-0535         NaN          NaN      135.1   \n",
       "9      HK      NT01205     K1P-0540         NaN          NaN      163.8   \n",
       "19     HK      NT01210     K1P-0591   64.326044  -109.812725      122.4   \n",
       "21     HK      NT01211     K1P-0593   64.326044  -109.812725      135.4   \n",
       "23     HK      NT01212     K1P-0595   64.326044  -109.812725      176.6   \n",
       "\n",
       "    Mag Susc [SI]  Resistivity [Ohm.m]  Geometric Factor [m]  \\\n",
       "7        0.013182         10090.413234              0.022235   \n",
       "9        0.006001          2204.463074              0.022346   \n",
       "19       0.001167            47.798493              0.026205   \n",
       "21       0.004224         17612.473012              0.021637   \n",
       "23       0.009333           572.919007              0.021410   \n",
       "\n",
       "    Sat Geometric Dens [g/cc]   ...        Rl         Ql      Pl      Fl  \\\n",
       "7                    2.674294   ...    578400  7.246e-07   0.177   21.65   \n",
       "9                    2.759935   ...     47360   8.84e-06  0.1809   19.61   \n",
       "19                   2.385503   ...       395  4.273e-05  0.4269    2263   \n",
       "21                   2.608411   ...    216600  5.428e-07  0.2842   296.7   \n",
       "23                   2.644475   ...      7429  0.0001171  0.1597  0.3807   \n",
       "\n",
       "        pRl        pQl           Re         Qe    Pe-f    Pe-i  \n",
       "7     36980  6.445e-07  10000000000  0.0001862  0.4612   0.752  \n",
       "9    151700   1.59e-06  10000000000   0.007566  0.4576  0.7399  \n",
       "19     6645  1.992e-06  10000000000   0.001293  0.9516  0.7104  \n",
       "21  2370000  3.672e-08  10000000000  5.736e-05   0.941   1.935  \n",
       "23    91680  7.145e-06  10000000000   0.005917  0.5388 -0.1475  \n",
       "\n",
       "[5 rows x 34 columns]"
      ]
     },
     "execution_count": 13,
     "metadata": {},
     "output_type": "execute_result"
    }
   ],
   "source": [
    "data_active[data['Facies'] == 'HK']"
   ]
  },
  {
   "cell_type": "code",
   "execution_count": 5,
   "metadata": {
    "collapsed": true
   },
   "outputs": [],
   "source": [
    "labid = 'NT01213'"
   ]
  },
  {
   "cell_type": "code",
   "execution_count": 6,
   "metadata": {
    "collapsed": false
   },
   "outputs": [
    {
     "name": "stderr",
     "output_type": "stream",
     "text": [
      "/Users/sgkang/anaconda/lib/python2.7/site-packages/pandas/core/frame.py:1825: UserWarning: Boolean Series key will be reindexed to match DataFrame index.\n",
      "  \"DataFrame index.\", UserWarning)\n"
     ]
    }
   ],
   "source": [
    "R0 = data_active[data['0LabID (PCG)'] == labid]['Ro'].values[0]\n",
    "Rinf = data_active[data['0LabID (PCG)'] == labid]['Rinf'].values[0]\n",
    "Rh = data_active[data['0LabID (PCG)'] == labid]['Rh'].values[0]\n",
    "Qh = data_active[data['0LabID (PCG)'] == labid]['Qh'].values[0]\n",
    "pRh = data_active[data['0LabID (PCG)'] == labid]['pRh'].values[0]\n",
    "pQh = data_active[data['0LabID (PCG)'] == labid]['pQh'].values[0]\n",
    "Ph = data_active[data['0LabID (PCG)'] == labid]['Ph'].values[0]\n",
    "Fh = data_active[data['0LabID (PCG)'] == labid]['Fh'].values[0]\n",
    "Rl = data_active[data['0LabID (PCG)'] == labid]['Rl'].values[0]\n",
    "Ql = data_active[data['0LabID (PCG)'] == labid]['Ql'].values[0]\n",
    "pRl = data_active[data['0LabID (PCG)'] == labid]['pRl'].values[0]\n",
    "pQl = data_active[data['0LabID (PCG)'] == labid]['pQl'].values[0]\n",
    "Pl = data_active[data['0LabID (PCG)'] == labid]['Pl'].values[0]\n",
    "Re = data_active[data['0LabID (PCG)'] == labid]['Re'].values[0]\n",
    "Qe = data_active[data['0LabID (PCG)'] == labid]['Qe'].values[0]\n",
    "Pef = data_active[data['0LabID (PCG)'] == labid]['Pe-f'].values[0]\n",
    "Pei = data_active[data['0LabID (PCG)'] == labid]['Pe-i'].values[0]"
   ]
  },
  {
   "cell_type": "code",
   "execution_count": 7,
   "metadata": {
    "collapsed": true
   },
   "outputs": [],
   "source": [
    "obs = temp[:,4]+1j*temp[:,5]"
   ]
  },
  {
   "cell_type": "code",
   "execution_count": 8,
   "metadata": {
    "collapsed": false
   },
   "outputs": [],
   "source": [
    "def fitfun(R0, Rh, Qh, Ph, Rl, Ql, Pl, Re, Qe, Pef, Pei,plottype=\"realimag\"):\n",
    "    Zh = CPEfunSeries(Rh, Qh, Ph, frequency)\n",
    "    Zl = CPEfunSeries(Rl, Ql, Pl, frequency)\n",
    "    Ze = CPEfunElec(Re, Qe, Pef, Pei, frequency)\n",
    "    pred = 1./(1./R0+1./Zh+1./Zl)+Ze\n",
    "\n",
    "    fig = plt.figure(figsize = (14, 4))\n",
    "#     fig.patch.set_facecolor('black')\n",
    "    ax = plt.subplot(121)\n",
    "    ax1 = plt.subplot(122)\n",
    "    ax.patch.set_facecolor('black')\n",
    "    ax1.patch.set_facecolor('black')\n",
    "    if plottype==\"realimag\":\n",
    "        ax.loglog(frequency, obs.real, 'lime', lw=3, marker=\".\", ms=8)\n",
    "        ax1.loglog(frequency, abs(obs.imag), 'lime', lw=3, marker=\".\", ms=8)\n",
    "        ax.loglog(frequency, pred.real, 'deepskyblue', lw=2)\n",
    "        ax1.loglog(frequency, abs(pred.imag), 'deepskyblue', lw=2)\n",
    "        ax.set_ylabel(\"Real (Ohm)\")\n",
    "        ax.set_xlabel(\"Frequency (Hz)\")\n",
    "        ax1.set_ylabel(\"Imaginary (Ohm)\")\n",
    "        ax1.set_xlabel(\"Frequency (Hz)\")\n",
    "        \n",
    "        ax.invert_xaxis()\n",
    "        ax1.invert_xaxis()\n",
    "        ax.set_ylim(obs.real.min(), obs.real.max())\n",
    "        ax1.set_ylim(abs(obs.imag).min(), abs(obs.imag).max())        \n",
    "    elif plottype==\"ampphase\":\n",
    "        amp = np.sqrt(obs.real**2+obs.imag**2)\n",
    "        phase = np.arctan2(obs.real, obs.imag)\n",
    "        ax.loglog(frequency, amp, 'lime', lw=3, marker=\".\", ms=8)\n",
    "        ax1.loglog(frequency, phase, 'lime', lw=3, marker=\".\", ms=8)\n",
    "        ax.loglog(frequency, abs(pred), 'deepskyblue', lw=2)\n",
    "        ax1.loglog(frequency, np.arctan2(pred.real, pred.imag), 'deepskyblue', lw=2)\n",
    "        ax.invert_xaxis()\n",
    "        ax1.invert_xaxis()\n",
    "        ax.set_ylim(amp.min(), amp.max())\n",
    "        ax1.set_ylim(phase.min(), phase.max())       \n",
    "        ax.set_ylabel(\"Amplitude (Ohm)\")\n",
    "        ax.set_xlabel(\"Frequency (Hz)\")\n",
    "        ax1.set_ylabel(\"Phase (rad)\")\n",
    "        ax1.set_xlabel(\"Frequency (Hz)\")\n",
    "        \n",
    "    elif plottype==\"zarc\":        \n",
    "        amp = np.sqrt(obs.real**2+obs.imag**2)\n",
    "        amp_pred = np.sqrt(pred.real**2+pred.imag**2)\n",
    "        ax.plot(obs.real, -obs.imag, 'lime', lw=3, marker=\".\", ms=8)\n",
    "        ax.plot(pred.real, -pred.imag, 'deepskyblue', lw=2)\n",
    "        ax1.semilogx(frequency[1:]*0.5+frequency[0:-1]*0.5, diff(np.log10(amp))/diff(np.log10(frequency)), 'lime', lw=3, marker=\".\", ms=8)\n",
    "        ax1.semilogx(frequency[1:]*0.5+frequency[0:-1]*0.5, diff(np.log10(amp_pred))/diff(np.log10(frequency)), 'deepskyblue', lw=2)\n",
    "        ax.set_xlim(obs.real.min(), obs.real.max())\n",
    "        ax.set_ylim((-obs.imag).min(), (-obs.imag).max())\n",
    "        ax.set_xlabel(\"Real (Ohm)\")\n",
    "        ax.set_ylabel(\"- Imaginary (Ohm)\")\n",
    "        ax1.set_xlabel(\"Frequency\")\n",
    "        ax1.set_ylabel(\"dlog(Amp)/dlog(Freq)\")\n",
    "        \n",
    "        \n",
    "    ax.grid(True)\n",
    "\n",
    "    ax.yaxis.grid(True, which='minor')\n",
    "    plt.tick_params(axis='y', which='minor')\n",
    "    ax1.grid(True)\n",
    "    ax1.yaxis.grid(True, which='minor')\n",
    "    plt.tick_params(axis='y', which='minor')\n",
    "#     ax.yaxis.set_minor_formatter(FormatStrFormatter(\"%.1f\"))\n",
    "#     ax1.yaxis.set_minor_formatter(FormatStrFormatter(\"%.1f\"))\n",
    "    \n",
    "    leg = ax1.legend((\"Observed\", \"Predicted\"), fontsize = 12, bbox_to_anchor = (1.4, 1))\n",
    "    for text in leg.get_texts():\n",
    "        plt.setp(text, color = 'k')\n",
    "    plt.show()\n",
    "    return True"
   ]
  },
  {
   "cell_type": "code",
   "execution_count": 9,
   "metadata": {
    "collapsed": false
   },
   "outputs": [],
   "source": [
    "from matplotlib.ticker import FormatStrFormatter\n",
    "# ax.yaxis.set_minor_formatter(FormatStrFormatter(\"%.1f\"))"
   ]
  },
  {
   "cell_type": "code",
   "execution_count": 10,
   "metadata": {
    "collapsed": false
   },
   "outputs": [],
   "source": [
    "import matplotlib\n",
    "matplotlib.rcParams.update({'font.size': 14})\n",
    "matplotlib.rcParams.update({'grid.color': 'white', 'grid.linewidth':1})"
   ]
  },
  {
   "cell_type": "code",
   "execution_count": 11,
   "metadata": {
    "collapsed": false
   },
   "outputs": [
    {
     "name": "stderr",
     "output_type": "stream",
     "text": [
      "/Users/sgkang/anaconda/lib/python2.7/site-packages/IPython/html.py:14: ShimWarning: The `IPython.html` package has been deprecated. You should import from `notebook` instead. `IPython.html.widgets` has moved to `ipywidgets`.\n",
      "  \"`IPython.html.widgets` has moved to `ipywidgets`.\", ShimWarning)\n"
     ]
    }
   ],
   "source": [
    "from IPython.html.widgets import interact, FloatText, FloatSlider, ToggleButtons"
   ]
  },
  {
   "cell_type": "code",
   "execution_count": 21,
   "metadata": {
    "collapsed": false
   },
   "outputs": [
    {
     "data": {
      "image/png": "[encoded data removed]",
      "text/plain": [
       "<matplotlib.figure.Figure at 0x108e0d050>"
      ]
     },
     "metadata": {},
     "output_type": "display_data"
    },
    {
     "data": {
      "text/plain": [
       "True"
      ]
     },
     "metadata": {},
     "output_type": "display_data"
    }
   ],
   "source": [
    "interact(fitfun, R0=FloatText(value=R0),\\\n",
    "    Rh=FloatSlider(description=\"$R_h$\", min = 1, max = 10000., step = 100, value=pRh, readout=True), \n",
    "    Qh=FloatText(value=pQh), \n",
    "    Ph=FloatSlider(min = 0.1, max = 1., step = 0.02, value=Ph),\n",
    "    Rl=FloatSlider(min = 1, max = 10000., step = 100, value=Rl), \n",
    "    Ql=FloatText(value=pQl), \n",
    "    Pl=FloatSlider(min = 0.1, max = 1., step = 0.02, value=Pl),\n",
    "    Re=FloatSlider(min = 1, max = 10000., step = 100, value=Re), \n",
    "    Qe=FloatText(value=Qe), \n",
    "    Pef=FloatSlider(min = 0.1, max = 1., step = 0.02, value=Pef), \n",
    "    Pei=FloatSlider(min = 0.1, max = 1., step = 0.02, value=Pei),\n",
    "    plottype=ToggleButtons(options=['realimag','ampphase', 'zarc'])) "
   ]
  },
  {
   "cell_type": "code",
   "execution_count": null,
   "metadata": {
    "collapsed": true
   },
   "outputs": [],
   "source": []
  }
 ],
 "metadata": {
  "kernelspec": {
   "display_name": "Python 2",
   "language": "python",
   "name": "python2"
  },
  "language_info": {
   "codemirror_mode": {
    "name": "ipython",
    "version": 2
   },
   "file_extension": ".py",
   "mimetype": "text/x-python",
   "name": "python",
   "nbconvert_exporter": "python",
   "pygments_lexer": "ipython2",
   "version": "2.7.10"
  }
 },
 "nbformat": 4,
 "nbformat_minor": 0
}
